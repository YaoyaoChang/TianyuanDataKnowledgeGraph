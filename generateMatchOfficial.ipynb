{
 "cells": [
  {
   "cell_type": "code",
   "execution_count": 11,
   "metadata": {
    "ExecuteTime": {
     "end_time": "2019-07-26T06:09:06.232873Z",
     "start_time": "2019-07-26T06:09:06.229918Z"
    }
   },
   "outputs": [],
   "source": [
    "import Ipynb_importer\n",
    "from generateMatch import *"
   ]
  },
  {
   "cell_type": "code",
   "execution_count": 17,
   "metadata": {
    "ExecuteTime": {
     "end_time": "2019-07-26T06:33:18.874943Z",
     "start_time": "2019-07-26T06:33:18.871918Z"
    }
   },
   "outputs": [
    {
     "name": "stdout",
     "output_type": "stream",
     "text": [
      "match(n:挖掘机)\n",
      "where \n",
      "(n.工作小时数>4800 and n.工作小时数<5000) or \n",
      "(n.工作小时数>9800 and n.工作小时数<10000) or \n",
      "(n.工作小时数>14800 and n.工作小时数<15000) or \n",
      "(n.工作小时数>19800 and n.工作小时数<20000) or \n",
      "(n.工作小时数>24800 and n.工作小时数<25000) or \n",
      "(n.工作小时数>29800 and n.工作小时数<30000) or \n",
      "(n.工作小时数>34800 and n.工作小时数<35000) or \n",
      "(n.工作小时数>39800 and n.工作小时数<40000) \n",
      "return n\n",
      "limit 100\n",
      "\n"
     ]
    }
   ],
   "source": [
    "s = findMachineNearMaintain(period = 5000, advance=200, limit=100, maxHour = 40000)\n",
    "print(s)"
   ]
  },
  {
   "cell_type": "code",
   "execution_count": 15,
   "metadata": {
    "ExecuteTime": {
     "end_time": "2019-07-26T06:14:39.247802Z",
     "start_time": "2019-07-26T06:14:39.244777Z"
    }
   },
   "outputs": [
    {
     "name": "stdout",
     "output_type": "stream",
     "text": [
      "match(a:现场服务人员)--(b:服务区{value:'石家庄西区'})\n",
      "match(a:现场服务人员)--(c:服务派工)--(d:工单)--(e:挖掘机)--(f:机型{value:'PC56-7'})\n",
      "match(d:工单)--(g:故障{value:'500小时保养'})\n",
      "return a,b,c,d,e,f,g\n",
      "limit 100\n",
      "\n"
     ]
    }
   ],
   "source": [
    "s = findServiceStaff(srvArea='石家庄西区', deviceModel='PC56-7', symptom='500小时保养', onlyStaff=False, limit=100)\n",
    "print(s)"
   ]
  },
  {
   "cell_type": "code",
   "execution_count": 13,
   "metadata": {
    "ExecuteTime": {
     "end_time": "2019-07-26T06:11:41.657551Z",
     "start_time": "2019-07-26T06:11:41.653561Z"
    }
   },
   "outputs": [
    {
     "name": "stdout",
     "output_type": "stream",
     "text": [
      "match(n:客户{客户号:'TC20190411110106917'})--(m)\n",
      "match(m)--(p)\n",
      "return n,m,p\n",
      "limit 100\n"
     ]
    }
   ],
   "source": [
    "s = findCustomerInfo(customerID='TC20190411110106917', limit=100)\n",
    "print(s)"
   ]
  },
  {
   "cell_type": "code",
   "execution_count": null,
   "metadata": {},
   "outputs": [],
   "source": []
  }
 ],
 "metadata": {
  "kernelspec": {
   "display_name": "Python 3",
   "language": "python",
   "name": "python3"
  },
  "language_info": {
   "codemirror_mode": {
    "name": "ipython",
    "version": 3
   },
   "file_extension": ".py",
   "mimetype": "text/x-python",
   "name": "python",
   "nbconvert_exporter": "python",
   "pygments_lexer": "ipython3",
   "version": "3.7.0"
  },
  "varInspector": {
   "cols": {
    "lenName": 16,
    "lenType": 16,
    "lenVar": 40
   },
   "kernels_config": {
    "python": {
     "delete_cmd_postfix": "",
     "delete_cmd_prefix": "del ",
     "library": "var_list.py",
     "varRefreshCmd": "print(var_dic_list())"
    },
    "r": {
     "delete_cmd_postfix": ") ",
     "delete_cmd_prefix": "rm(",
     "library": "var_list.r",
     "varRefreshCmd": "cat(var_dic_list()) "
    }
   },
   "types_to_exclude": [
    "module",
    "function",
    "builtin_function_or_method",
    "instance",
    "_Feature"
   ],
   "window_display": true
  }
 },
 "nbformat": 4,
 "nbformat_minor": 2
}
