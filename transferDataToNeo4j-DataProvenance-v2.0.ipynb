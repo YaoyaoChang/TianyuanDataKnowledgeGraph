{
 "cells": [
  {
   "cell_type": "code",
   "execution_count": 1,
   "metadata": {
    "ExecuteTime": {
     "end_time": "2019-08-28T04:52:42.818354Z",
     "start_time": "2019-08-28T04:52:42.456298Z"
    }
   },
   "outputs": [],
   "source": [
    "import pandas as pd\n",
    "import numpy as np\n",
    "import os\n",
    "from tqdm import tqdm\n",
    "import xlrd\n",
    "from py2neo import Graph,Node,Relationship\n",
    "from py2neo.database import ClientError\n",
    "import re"
   ]
  },
  {
   "cell_type": "code",
   "execution_count": 2,
   "metadata": {
    "ExecuteTime": {
     "end_time": "2019-08-28T04:52:42.824346Z",
     "start_time": "2019-08-28T04:52:42.819327Z"
    }
   },
   "outputs": [],
   "source": [
    "# option_entities_file = 'entities.csv'\n",
    "# option_relations_file = 'relations.txt'\n",
    "# option_properties_file = 'properties.txt'\n",
    "option_deleteAllFlag = 1\n",
    "option_demoFlag = 1\n",
    "option_read_csv_row =  -1 # -1 for all rows, positive number k for first k rows.\n",
    "option_userName = 'neo4j'\n",
    "option_passWord = '123123'\n",
    "option_config_file = r''\n",
    "option_entities_dir = ''\n",
    "option_column_prefix = \"\" \n",
    "option_label = \"\"\n",
    "option_neo4j_ip = \"localhost\"\n",
    "option_neo4j_port = \"7474\"\n",
    "option_pas = False\n",
    "option_intesrv = False\n",
    "option_decoration = True\n",
    "option_remote = False\n",
    "\n",
    "if option_pas == True:\n",
    "#     option_config_file = r'E:/天远/知识图谱/天远知识图谱文档/数据血缘/PAS/PAS_config.xlsx'\n",
    "    option_config_file = r'./config/PAS_config.xlsx'\n",
    "    option_entities_dir = './data/pas/'\n",
    "    option_column_prefix = \"\" \n",
    "    option_label = \"数据起源\"\n",
    "\n",
    "if option_intesrv == True:\n",
    "    option_config_file = r'E:/天远/知识图谱/天远知识图谱文档/天远百度/config/config_intesrv/config_v2.2.0.xlsx'\n",
    "#     option_config_file = './config1.3.xlsx'\n",
    "    option_entities_dir = './data/intesrv_real/'\n",
    "    option_column_prefix = \"plt_\" \n",
    "    option_label = \"智能服务\"\n",
    "    \n",
    "if option_decoration == True:\n",
    "    option_config_file = r'E:/天远/知识图谱/天远知识图谱文档/天远百度/config/config_manual/config_manual_v1.3.1.xlsx'\n",
    "#     option_config_file = './config1.3.xlsx'\n",
    "    option_entities_dir = './data/decoration/'\n",
    "    option_column_prefix = \"\" \n",
    "    option_label = \"装修手册\"\n",
    "    \n",
    "if option_remote == True:\n",
    "    option_passWord = '123456'\n",
    "    option_neo4j_ip = \"101.6.15.212\"\n"
   ]
  },
  {
   "cell_type": "markdown",
   "metadata": {
    "heading_collapsed": true
   },
   "source": [
    "##### debug"
   ]
  },
  {
   "cell_type": "raw",
   "metadata": {
    "ExecuteTime": {
     "end_time": "2019-07-22T16:39:45.129158Z",
     "start_time": "2019-07-22T16:39:45.103253Z"
    },
    "hidden": true
   },
   "source": [
    "# 数据表之间的关系是经过手动拓扑排序(按照主外键关系)\n",
    "if option_intesrv == True:\n",
    "    tables_name = ['plt_intesrv_tycustomer',\n",
    "    'plt_org_user',\n",
    "    'plt_intesrv_tysrvperson',\n",
    "    'plt_intesrv_tydevice',\n",
    "    'plt_intesrv_tylinkman',\n",
    "    # 'plt_intesrv_tyworkorder',\n",
    "    'plt_intesrv_tywork',\n",
    "    'plt_intesrv_tyworkmileage',\n",
    "    'plt_intesrv_tyworkdispatch',\n",
    "    'plt_intesrv_tyjob',\n",
    "    # 'plt_intesrv_tyjobsteps',\n",
    "    'plt_intesrv_typartdeliveryinfo',\n",
    "    'plt_intesrv_typartdelivery',\n",
    "    'plt_intesrv_tytodorepair'\n",
    "    # ,'plt_intesrv_tycalllog'\n",
    "    ]\n",
    "    # for index in range(0, len(tables_name)):\n",
    "    #     tables_name[index] = tables_name[index].lower()\n",
    "    for table in tables_name:\n",
    "        print(table)\n",
    "    #     print(\"'\"+table+\"',\")\n",
    "    print(len(tables_name))"
   ]
  },
  {
   "cell_type": "raw",
   "metadata": {
    "ExecuteTime": {
     "end_time": "2019-07-22T16:39:45.134138Z",
     "start_time": "2019-07-22T16:39:45.130148Z"
    },
    "hidden": true
   },
   "source": [
    "# 数据表之间的关系是经过手动拓扑排序(按照主外键关系)\n",
    "if option_pas == True:\n",
    "    tables_name = ['algorithm',\n",
    "     'sqltable',\n",
    "     'deviceconfig',\n",
    "     'project',\n",
    "     'task'\n",
    "     ,'taskrun'\n",
    "        ]\n",
    "    # for index in range(0, len(tables_name)):\n",
    "    #     tables_name[index] = tables_name[index].lower()\n",
    "    for table in tables_name:\n",
    "        print(table)\n",
    "    #     print(\"'\"+table+\"',\")"
   ]
  },
  {
   "cell_type": "markdown",
   "metadata": {},
   "source": [
    "## 读取配置表"
   ]
  },
  {
   "cell_type": "markdown",
   "metadata": {
    "ExecuteTime": {
     "end_time": "2019-07-16T02:31:49.550496Z",
     "start_time": "2019-07-16T02:31:49.524565Z"
    }
   },
   "source": [
    "### 主外键对应表"
   ]
  },
  {
   "cell_type": "code",
   "execution_count": 3,
   "metadata": {
    "ExecuteTime": {
     "end_time": "2019-08-28T04:52:42.885152Z",
     "start_time": "2019-08-28T04:52:42.825311Z"
    }
   },
   "outputs": [
    {
     "data": {
      "text/html": [
       "<div>\n",
       "<style scoped>\n",
       "    .dataframe tbody tr th:only-of-type {\n",
       "        vertical-align: middle;\n",
       "    }\n",
       "\n",
       "    .dataframe tbody tr th {\n",
       "        vertical-align: top;\n",
       "    }\n",
       "\n",
       "    .dataframe thead th {\n",
       "        text-align: right;\n",
       "    }\n",
       "</style>\n",
       "<table border=\"1\" class=\"dataframe\">\n",
       "  <thead>\n",
       "    <tr style=\"text-align: right;\">\n",
       "      <th></th>\n",
       "      <th>主键</th>\n",
       "      <th>外键</th>\n",
       "      <th>primary_table</th>\n",
       "      <th>primary_key</th>\n",
       "      <th>foreign_table</th>\n",
       "      <th>foreign_key</th>\n",
       "    </tr>\n",
       "  </thead>\n",
       "  <tbody>\n",
       "  </tbody>\n",
       "</table>\n",
       "</div>"
      ],
      "text/plain": [
       "Empty DataFrame\n",
       "Columns: [主键, 外键, primary_table, primary_key, foreign_table, foreign_key]\n",
       "Index: []"
      ]
     },
     "execution_count": 3,
     "metadata": {},
     "output_type": "execute_result"
    }
   ],
   "source": [
    "df = pd.read_excel(open(option_config_file, 'rb'),sheet_name='主外键对应表')\n",
    "for col in df.columns:\n",
    "    df[col] = df[col].astype(str).str.lower()\n",
    "df['primary_table'] = df['主键'].apply(lambda x: x.split('.')[0])\n",
    "df['primary_key'] = option_column_prefix + df['主键'].apply(lambda x: x.split('.')[1])\n",
    "df['foreign_table'] = df['外键'].apply(lambda x: x.split('.')[0])\n",
    "df['foreign_key'] = option_column_prefix + df['外键'].apply(lambda x: x.split('.')[1])\n",
    "df_foreign = df\n",
    "df_foreign"
   ]
  },
  {
   "cell_type": "markdown",
   "metadata": {
    "ExecuteTime": {
     "end_time": "2019-07-22T15:20:09.403859Z",
     "start_time": "2019-07-22T15:20:09.400889Z"
    }
   },
   "source": [
    "#### 根据主外键关系，对表进行拓扑排序"
   ]
  },
  {
   "cell_type": "code",
   "execution_count": 4,
   "metadata": {
    "ExecuteTime": {
     "end_time": "2019-08-28T04:52:42.892132Z",
     "start_time": "2019-08-28T04:52:42.886148Z"
    }
   },
   "outputs": [],
   "source": [
    "if option_decoration == True:\n",
    "    tables_name = ['manual_fc']\n",
    "else:\n",
    "    tables_name = []\n",
    "    df_foreign_tobedeleted = df_foreign.copy()\n",
    "    count = 0\n",
    "    while len(df_foreign_tobedeleted) > 0:\n",
    "    #     print(count)\n",
    "        a = df_foreign_tobedeleted['primary_table'].unique()\n",
    "        b = df_foreign_tobedeleted['foreign_table'].unique()\n",
    "        c = np.concatenate((a,b))\n",
    "        tables_name_unordered = set(c)\n",
    "    #     print(tables_name_unordered)\n",
    "        foreign_table = set(df_foreign_tobedeleted['foreign_table'])\n",
    "        table = tables_name_unordered.difference(foreign_table).pop()\n",
    "    #     print(tables_name_unordered.difference(foreign_table))\n",
    "        tables_name.append(table)\n",
    "    #     print(table)\n",
    "        index_tobedeleted = df_foreign_tobedeleted.loc[df_foreign_tobedeleted['primary_table'] == table].index\n",
    "    #     print(index_tobedeleted)\n",
    "        df_foreign_tobedeleted.drop(index_tobedeleted, inplace=True)\n",
    "    #     print(df_foreign_tobedeleted[['primary_table','foreign_table']])\n",
    "        count += 1    \n",
    "\n",
    "    df_foreign_tobedeleted = df_foreign.copy()\n",
    "    a = df_foreign_tobedeleted['primary_table'].unique()\n",
    "    b = df_foreign_tobedeleted['foreign_table'].unique()\n",
    "    c = np.concatenate((a,b))\n",
    "    tables_name_unordered = set(c)\n",
    "    table_not_added = tables_name_unordered.difference(set(tables_name))\n",
    "    while len(table_not_added) > 0:\n",
    "        tables_name.append(table_not_added.pop())\n",
    "    tables_name"
   ]
  },
  {
   "cell_type": "markdown",
   "metadata": {
    "heading_collapsed": true
   },
   "source": [
    "##### debug"
   ]
  },
  {
   "cell_type": "raw",
   "metadata": {
    "ExecuteTime": {
     "end_time": "2019-07-22T16:18:11.120948Z",
     "start_time": "2019-07-22T16:18:11.115962Z"
    },
    "hidden": true
   },
   "source": [
    "a = df_foreign['primary_table'].unique()\n",
    "b = df_foreign['foreign_table'].unique()\n",
    "c = np.concatenate((a,b))\n",
    "tables_name_unordered = set(c)\n",
    "tables_name_unordered"
   ]
  },
  {
   "cell_type": "raw",
   "metadata": {
    "ExecuteTime": {
     "end_time": "2019-07-22T15:29:28.371550Z",
     "start_time": "2019-07-22T15:29:28.367556Z"
    },
    "hidden": true
   },
   "source": [
    "a = df_foreign['primary_table'].unique()\n",
    "b = df_foreign['foreign_table'].unique()\n",
    "c = np.concatenate((a,b))\n",
    "tables_name_unordered = set(np.unique(c))\n",
    "tables_name_unordered"
   ]
  },
  {
   "cell_type": "raw",
   "metadata": {
    "ExecuteTime": {
     "end_time": "2019-07-22T16:30:45.180628Z",
     "start_time": "2019-07-22T16:30:45.177655Z"
    },
    "hidden": true
   },
   "source": [
    "foreign_table = set(df_foreign['foreign_table'])\n",
    "foreign_table"
   ]
  },
  {
   "cell_type": "raw",
   "metadata": {
    "ExecuteTime": {
     "end_time": "2019-07-22T16:30:46.999377Z",
     "start_time": "2019-07-22T16:30:46.995387Z"
    },
    "hidden": true
   },
   "source": [
    "primary_table = set(df_foreign['primary_table'])\n",
    "primary_table"
   ]
  },
  {
   "cell_type": "raw",
   "metadata": {
    "ExecuteTime": {
     "end_time": "2019-07-22T16:30:55.311076Z",
     "start_time": "2019-07-22T16:30:55.308052Z"
    },
    "hidden": true
   },
   "source": [
    "foreign_table.difference(primary_table)"
   ]
  },
  {
   "cell_type": "raw",
   "metadata": {
    "ExecuteTime": {
     "end_time": "2019-07-22T15:43:03.768390Z",
     "start_time": "2019-07-22T15:43:03.763402Z"
    },
    "hidden": true
   },
   "source": [
    "d = tables_name_unordered.difference(primary_table)\n",
    "d"
   ]
  },
  {
   "cell_type": "raw",
   "metadata": {
    "ExecuteTime": {
     "end_time": "2019-07-22T16:00:22.721413Z",
     "start_time": "2019-07-22T16:00:22.716427Z"
    },
    "hidden": true
   },
   "source": [
    "d.pop()"
   ]
  },
  {
   "cell_type": "raw",
   "metadata": {
    "ExecuteTime": {
     "end_time": "2019-07-22T15:39:16.138413Z",
     "start_time": "2019-07-22T15:39:16.134424Z"
    },
    "hidden": true
   },
   "source": [
    "len(d)"
   ]
  },
  {
   "cell_type": "raw",
   "metadata": {
    "ExecuteTime": {
     "end_time": "2019-07-22T16:00:42.206595Z",
     "start_time": "2019-07-22T16:00:42.201609Z"
    },
    "hidden": true
   },
   "source": [
    "ind = df_foreign.loc[df_foreign['foreign_table'] == 'plt_intesrv_tyworkmileage'].index\n",
    "ind"
   ]
  },
  {
   "cell_type": "raw",
   "metadata": {
    "ExecuteTime": {
     "end_time": "2019-07-22T16:00:47.923597Z",
     "start_time": "2019-07-22T16:00:47.913598Z"
    },
    "hidden": true
   },
   "source": [
    "df_foreign.drop(ind, inplace=True)\n",
    "df_foreign"
   ]
  },
  {
   "cell_type": "raw",
   "metadata": {
    "ExecuteTime": {
     "end_time": "2019-07-22T15:23:03.281117Z",
     "start_time": "2019-07-22T15:23:03.278091Z"
    },
    "hidden": true
   },
   "source": [
    "df_foreign['foreign_table'].unique()\n"
   ]
  },
  {
   "cell_type": "markdown",
   "metadata": {},
   "source": [
    "### 关系表"
   ]
  },
  {
   "cell_type": "code",
   "execution_count": 5,
   "metadata": {
    "ExecuteTime": {
     "end_time": "2019-08-28T04:52:43.153434Z",
     "start_time": "2019-08-28T04:52:43.117530Z"
    },
    "scrolled": true
   },
   "outputs": [
    {
     "data": {
      "text/html": [
       "<div>\n",
       "<style scoped>\n",
       "    .dataframe tbody tr th:only-of-type {\n",
       "        vertical-align: middle;\n",
       "    }\n",
       "\n",
       "    .dataframe tbody tr th {\n",
       "        vertical-align: top;\n",
       "    }\n",
       "\n",
       "    .dataframe thead th {\n",
       "        text-align: right;\n",
       "    }\n",
       "</style>\n",
       "<table border=\"1\" class=\"dataframe\">\n",
       "  <thead>\n",
       "    <tr style=\"text-align: right;\">\n",
       "      <th></th>\n",
       "      <th>id</th>\n",
       "      <th>sub</th>\n",
       "      <th>predicate</th>\n",
       "      <th>obj</th>\n",
       "      <th>table</th>\n",
       "      <th>type</th>\n",
       "      <th>prop_ch_str</th>\n",
       "      <th>prop_col_str</th>\n",
       "      <th>prop_ch</th>\n",
       "      <th>prop_col</th>\n",
       "    </tr>\n",
       "  </thead>\n",
       "  <tbody>\n",
       "    <tr>\n",
       "      <th>0</th>\n",
       "      <td>1</td>\n",
       "      <td>故障</td>\n",
       "      <td>包含</td>\n",
       "      <td>故障内容</td>\n",
       "      <td>manual_fc</td>\n",
       "      <td>nan</td>\n",
       "      <td>nan</td>\n",
       "      <td>nan</td>\n",
       "      <td>[]</td>\n",
       "      <td>[]</td>\n",
       "    </tr>\n",
       "    <tr>\n",
       "      <th>1</th>\n",
       "      <td>2</td>\n",
       "      <td>故障</td>\n",
       "      <td>包含</td>\n",
       "      <td>相关信息</td>\n",
       "      <td>manual_fc</td>\n",
       "      <td>nan</td>\n",
       "      <td>nan</td>\n",
       "      <td>nan</td>\n",
       "      <td>[]</td>\n",
       "      <td>[]</td>\n",
       "    </tr>\n",
       "    <tr>\n",
       "      <th>2</th>\n",
       "      <td>3</td>\n",
       "      <td>故障</td>\n",
       "      <td>导致</td>\n",
       "      <td>机器发生的故障</td>\n",
       "      <td>manual_fc</td>\n",
       "      <td>nan</td>\n",
       "      <td>nan</td>\n",
       "      <td>nan</td>\n",
       "      <td>[]</td>\n",
       "      <td>[]</td>\n",
       "    </tr>\n",
       "    <tr>\n",
       "      <th>3</th>\n",
       "      <td>4</td>\n",
       "      <td>故障</td>\n",
       "      <td>表现为</td>\n",
       "      <td>控制器的反应</td>\n",
       "      <td>manual_fc</td>\n",
       "      <td>nan</td>\n",
       "      <td>nan</td>\n",
       "      <td>nan</td>\n",
       "      <td>[]</td>\n",
       "      <td>[]</td>\n",
       "    </tr>\n",
       "    <tr>\n",
       "      <th>4</th>\n",
       "      <td>5</td>\n",
       "      <td>故障</td>\n",
       "      <td>包含</td>\n",
       "      <td>相关图片</td>\n",
       "      <td>nan</td>\n",
       "      <td>暂无</td>\n",
       "      <td>nan</td>\n",
       "      <td>nan</td>\n",
       "      <td>[]</td>\n",
       "      <td>[]</td>\n",
       "    </tr>\n",
       "    <tr>\n",
       "      <th>5</th>\n",
       "      <td>6</td>\n",
       "      <td>故障</td>\n",
       "      <td>产生于</td>\n",
       "      <td>部件</td>\n",
       "      <td>manual_fc</td>\n",
       "      <td>nan</td>\n",
       "      <td>nan</td>\n",
       "      <td>nan</td>\n",
       "      <td>[]</td>\n",
       "      <td>[]</td>\n",
       "    </tr>\n",
       "    <tr>\n",
       "      <th>6</th>\n",
       "      <td>7</td>\n",
       "      <td>故障</td>\n",
       "      <td>状态为</td>\n",
       "      <td>故障状态</td>\n",
       "      <td>nan</td>\n",
       "      <td>暂无</td>\n",
       "      <td>nan</td>\n",
       "      <td>nan</td>\n",
       "      <td>[]</td>\n",
       "      <td>[]</td>\n",
       "    </tr>\n",
       "    <tr>\n",
       "      <th>7</th>\n",
       "      <td>8</td>\n",
       "      <td>故障</td>\n",
       "      <td>因为</td>\n",
       "      <td>故障起因</td>\n",
       "      <td>manual_fc</td>\n",
       "      <td>nan</td>\n",
       "      <td>nan</td>\n",
       "      <td>nan</td>\n",
       "      <td>[]</td>\n",
       "      <td>[]</td>\n",
       "    </tr>\n",
       "    <tr>\n",
       "      <th>8</th>\n",
       "      <td>9</td>\n",
       "      <td>故障起因</td>\n",
       "      <td>发生于</td>\n",
       "      <td>部件</td>\n",
       "      <td>manual_fc</td>\n",
       "      <td>nan</td>\n",
       "      <td>nan</td>\n",
       "      <td>nan</td>\n",
       "      <td>[]</td>\n",
       "      <td>[]</td>\n",
       "    </tr>\n",
       "    <tr>\n",
       "      <th>9</th>\n",
       "      <td>10</td>\n",
       "      <td>故障起因</td>\n",
       "      <td>参见</td>\n",
       "      <td>故障</td>\n",
       "      <td>nan</td>\n",
       "      <td>暂无</td>\n",
       "      <td>nan</td>\n",
       "      <td>nan</td>\n",
       "      <td>[]</td>\n",
       "      <td>[]</td>\n",
       "    </tr>\n",
       "    <tr>\n",
       "      <th>10</th>\n",
       "      <td>11</td>\n",
       "      <td>故障起因</td>\n",
       "      <td>参见</td>\n",
       "      <td>故障起因</td>\n",
       "      <td>nan</td>\n",
       "      <td>暂无</td>\n",
       "      <td>nan</td>\n",
       "      <td>nan</td>\n",
       "      <td>[]</td>\n",
       "      <td>[]</td>\n",
       "    </tr>\n",
       "    <tr>\n",
       "      <th>11</th>\n",
       "      <td>12</td>\n",
       "      <td>故障起因</td>\n",
       "      <td>参见</td>\n",
       "      <td>故障诊断前的检查</td>\n",
       "      <td>nan</td>\n",
       "      <td>暂无</td>\n",
       "      <td>nan</td>\n",
       "      <td>nan</td>\n",
       "      <td>[]</td>\n",
       "      <td>[]</td>\n",
       "    </tr>\n",
       "    <tr>\n",
       "      <th>12</th>\n",
       "      <td>13</td>\n",
       "      <td>故障起因</td>\n",
       "      <td>包含</td>\n",
       "      <td>标准值</td>\n",
       "      <td>nan</td>\n",
       "      <td>暂无</td>\n",
       "      <td>nan</td>\n",
       "      <td>nan</td>\n",
       "      <td>[]</td>\n",
       "      <td>[]</td>\n",
       "    </tr>\n",
       "    <tr>\n",
       "      <th>13</th>\n",
       "      <td>14</td>\n",
       "      <td>部件</td>\n",
       "      <td>属于</td>\n",
       "      <td>部件</td>\n",
       "      <td>nan</td>\n",
       "      <td>暂无</td>\n",
       "      <td>nan</td>\n",
       "      <td>nan</td>\n",
       "      <td>[]</td>\n",
       "      <td>[]</td>\n",
       "    </tr>\n",
       "    <tr>\n",
       "      <th>14</th>\n",
       "      <td>15</td>\n",
       "      <td>检查系统</td>\n",
       "      <td>检查</td>\n",
       "      <td>故障</td>\n",
       "      <td>manual_fc</td>\n",
       "      <td>nan</td>\n",
       "      <td>nan</td>\n",
       "      <td>nan</td>\n",
       "      <td>[]</td>\n",
       "      <td>[]</td>\n",
       "    </tr>\n",
       "    <tr>\n",
       "      <th>15</th>\n",
       "      <td>16</td>\n",
       "      <td>诊断操作</td>\n",
       "      <td>确认</td>\n",
       "      <td>故障起因</td>\n",
       "      <td>manual_fc</td>\n",
       "      <td>nan</td>\n",
       "      <td>步骤数</td>\n",
       "      <td>stepnum</td>\n",
       "      <td>[步骤数]</td>\n",
       "      <td>[stepnum]</td>\n",
       "    </tr>\n",
       "    <tr>\n",
       "      <th>16</th>\n",
       "      <td>17</td>\n",
       "      <td>诊断操作</td>\n",
       "      <td>诊断</td>\n",
       "      <td>故障</td>\n",
       "      <td>manual_fc</td>\n",
       "      <td>nan</td>\n",
       "      <td>nan</td>\n",
       "      <td>nan</td>\n",
       "      <td>[]</td>\n",
       "      <td>[]</td>\n",
       "    </tr>\n",
       "  </tbody>\n",
       "</table>\n",
       "</div>"
      ],
      "text/plain": [
       "    id   sub predicate       obj      table type prop_ch_str prop_col_str  \\\n",
       "0    1    故障        包含      故障内容  manual_fc  nan         nan          nan   \n",
       "1    2    故障        包含      相关信息  manual_fc  nan         nan          nan   \n",
       "2    3    故障        导致   机器发生的故障  manual_fc  nan         nan          nan   \n",
       "3    4    故障       表现为    控制器的反应  manual_fc  nan         nan          nan   \n",
       "4    5    故障        包含      相关图片        nan   暂无         nan          nan   \n",
       "5    6    故障       产生于        部件  manual_fc  nan         nan          nan   \n",
       "6    7    故障       状态为      故障状态        nan   暂无         nan          nan   \n",
       "7    8    故障        因为      故障起因  manual_fc  nan         nan          nan   \n",
       "8    9  故障起因       发生于        部件  manual_fc  nan         nan          nan   \n",
       "9   10  故障起因        参见        故障        nan   暂无         nan          nan   \n",
       "10  11  故障起因        参见      故障起因        nan   暂无         nan          nan   \n",
       "11  12  故障起因        参见  故障诊断前的检查        nan   暂无         nan          nan   \n",
       "12  13  故障起因        包含       标准值        nan   暂无         nan          nan   \n",
       "13  14    部件        属于        部件        nan   暂无         nan          nan   \n",
       "14  15  检查系统        检查        故障  manual_fc  nan         nan          nan   \n",
       "15  16  诊断操作        确认      故障起因  manual_fc  nan         步骤数      stepnum   \n",
       "16  17  诊断操作        诊断        故障  manual_fc  nan         nan          nan   \n",
       "\n",
       "   prop_ch   prop_col  \n",
       "0       []         []  \n",
       "1       []         []  \n",
       "2       []         []  \n",
       "3       []         []  \n",
       "4       []         []  \n",
       "5       []         []  \n",
       "6       []         []  \n",
       "7       []         []  \n",
       "8       []         []  \n",
       "9       []         []  \n",
       "10      []         []  \n",
       "11      []         []  \n",
       "12      []         []  \n",
       "13      []         []  \n",
       "14      []         []  \n",
       "15   [步骤数]  [stepnum]  \n",
       "16      []         []  "
      ]
     },
     "execution_count": 5,
     "metadata": {},
     "output_type": "execute_result"
    }
   ],
   "source": [
    "dict_relation = {\"关系主语\":\"sub\",\n",
    "                   \"关系谓语\":\"predicate\",\n",
    "                   \"关系宾语\":\"obj\",\n",
    "                   \"关系类型\":\"type\",\n",
    "                   \"关系所在数据库表\":\"table\",\n",
    "                    \"关系属性\":\"prop_ch_str\",\n",
    "                    \"关系属性对应数据库属性\":\"prop_col_str\"}\n",
    "dict_relation_reverse = {value:key for key,value in dict_relation.items()}\n",
    "\n",
    "df = pd.read_excel(open(option_config_file, 'rb'),sheet_name='关系表')\n",
    "for col in df.columns:\n",
    "    df[col] = df[col].astype(str).str.lower()\n",
    "    df[col] = df[col].str.replace(\"\\n\",\"\")\n",
    "df = df.rename(index=str, columns=dict_relation)\n",
    "df['prop_ch'] = df['prop_ch_str'].astype(str).apply(lambda x: [y for y in re.split(\",|，\", x) if x != \"nan\"] )\n",
    "df['prop_col'] = df['prop_col_str'].astype(str).apply(lambda x: [option_column_prefix+y for y in re.split(\",|，\", x) if x != \"nan\"] )\n",
    "df_relation = df\n",
    "df_relation"
   ]
  },
  {
   "cell_type": "markdown",
   "metadata": {},
   "source": [
    "### 概念表"
   ]
  },
  {
   "cell_type": "code",
   "execution_count": 6,
   "metadata": {
    "ExecuteTime": {
     "end_time": "2019-08-28T04:52:43.196319Z",
     "start_time": "2019-08-28T04:52:43.191332Z"
    }
   },
   "outputs": [],
   "source": [
    "def split_compound_table(paragraph):\n",
    "    print(paragraph)\n",
    "    results = []\n",
    "    for sentence in re.split(\",|，\", paragraph):        \n",
    "        compound = {}\n",
    "        compound['main'] = sentence.split('-')[0]\n",
    "        compound['foreign'] = sentence.split('-')[1]\n",
    "        compound['main_table'] = compound['main'].split('.')[0]\n",
    "        compound['main_col'] = option_column_prefix + compound['main'].split('.')[1]\n",
    "        compound['foreign_table'] = compound['foreign'].split('.')[0]\n",
    "        compound['foreign_col'] = option_column_prefix + compound['foreign'].split('.')[1]\n",
    "        results.append(compound)\n",
    "    return results\n",
    "# split_compound_table(s+\",\"+s)"
   ]
  },
  {
   "cell_type": "code",
   "execution_count": 7,
   "metadata": {
    "ExecuteTime": {
     "end_time": "2019-08-28T04:52:43.268126Z",
     "start_time": "2019-08-28T04:52:43.198316Z"
    },
    "scrolled": false
   },
   "outputs": [
    {
     "data": {
      "text/html": [
       "<div>\n",
       "<style scoped>\n",
       "    .dataframe tbody tr th:only-of-type {\n",
       "        vertical-align: middle;\n",
       "    }\n",
       "\n",
       "    .dataframe tbody tr th {\n",
       "        vertical-align: top;\n",
       "    }\n",
       "\n",
       "    .dataframe thead th {\n",
       "        text-align: right;\n",
       "    }\n",
       "</style>\n",
       "<table border=\"1\" class=\"dataframe\">\n",
       "  <thead>\n",
       "    <tr style=\"text-align: right;\">\n",
       "      <th></th>\n",
       "      <th>concept_ch</th>\n",
       "      <th>display_name</th>\n",
       "      <th>table_and_column</th>\n",
       "      <th>type</th>\n",
       "      <th>inner_properties_ch</th>\n",
       "      <th>properties_col_str</th>\n",
       "      <th>code</th>\n",
       "      <th>compound_table_str</th>\n",
       "      <th>所属域</th>\n",
       "      <th>table</th>\n",
       "      <th>col</th>\n",
       "      <th>properties_col</th>\n",
       "      <th>properties_col_ch</th>\n",
       "      <th>compound_table</th>\n",
       "    </tr>\n",
       "  </thead>\n",
       "  <tbody>\n",
       "    <tr>\n",
       "      <th>0</th>\n",
       "      <td>故障</td>\n",
       "      <td>故障名称</td>\n",
       "      <td>manual_fc.faultcode</td>\n",
       "      <td>直接</td>\n",
       "      <td>故障名称,报警级别</td>\n",
       "      <td>faultname,alertlevel</td>\n",
       "      <td>nan</td>\n",
       "      <td>nan</td>\n",
       "      <td>故障诊断</td>\n",
       "      <td>manual_fc</td>\n",
       "      <td>faultcode</td>\n",
       "      <td>[faultname, alertlevel]</td>\n",
       "      <td>[故障名称, 报警级别]</td>\n",
       "      <td>NaN</td>\n",
       "    </tr>\n",
       "    <tr>\n",
       "      <th>1</th>\n",
       "      <td>故障内容</td>\n",
       "      <td>unique_id</td>\n",
       "      <td>manual_fc.faultcontent</td>\n",
       "      <td>直接</td>\n",
       "      <td>nan</td>\n",
       "      <td>nan</td>\n",
       "      <td>nan</td>\n",
       "      <td>nan</td>\n",
       "      <td>故障诊断</td>\n",
       "      <td>manual_fc</td>\n",
       "      <td>faultcontent</td>\n",
       "      <td>[]</td>\n",
       "      <td>[]</td>\n",
       "      <td>NaN</td>\n",
       "    </tr>\n",
       "    <tr>\n",
       "      <th>2</th>\n",
       "      <td>机器发生的故障</td>\n",
       "      <td>unique_id</td>\n",
       "      <td>manual_fc.machinefault</td>\n",
       "      <td>直接</td>\n",
       "      <td>nan</td>\n",
       "      <td>nan</td>\n",
       "      <td>nan</td>\n",
       "      <td>nan</td>\n",
       "      <td>故障诊断</td>\n",
       "      <td>manual_fc</td>\n",
       "      <td>machinefault</td>\n",
       "      <td>[]</td>\n",
       "      <td>[]</td>\n",
       "      <td>NaN</td>\n",
       "    </tr>\n",
       "    <tr>\n",
       "      <th>3</th>\n",
       "      <td>控制器的反应</td>\n",
       "      <td>unique_id</td>\n",
       "      <td>manual_fc.controllerreaction</td>\n",
       "      <td>直接</td>\n",
       "      <td>nan</td>\n",
       "      <td>nan</td>\n",
       "      <td>nan</td>\n",
       "      <td>nan</td>\n",
       "      <td>故障诊断</td>\n",
       "      <td>manual_fc</td>\n",
       "      <td>controllerreaction</td>\n",
       "      <td>[]</td>\n",
       "      <td>[]</td>\n",
       "      <td>NaN</td>\n",
       "    </tr>\n",
       "    <tr>\n",
       "      <th>4</th>\n",
       "      <td>相关信息</td>\n",
       "      <td>unique_id</td>\n",
       "      <td>manual_fc.relatedinfo</td>\n",
       "      <td>直接</td>\n",
       "      <td>nan</td>\n",
       "      <td>nan</td>\n",
       "      <td>nan</td>\n",
       "      <td>nan</td>\n",
       "      <td>故障诊断</td>\n",
       "      <td>manual_fc</td>\n",
       "      <td>relatedinfo</td>\n",
       "      <td>[]</td>\n",
       "      <td>[]</td>\n",
       "      <td>NaN</td>\n",
       "    </tr>\n",
       "    <tr>\n",
       "      <th>5</th>\n",
       "      <td>故障起因</td>\n",
       "      <td>unique_id</td>\n",
       "      <td>manual_fc.cause</td>\n",
       "      <td>直接</td>\n",
       "      <td>nan</td>\n",
       "      <td>nan</td>\n",
       "      <td>nan</td>\n",
       "      <td>nan</td>\n",
       "      <td>故障诊断</td>\n",
       "      <td>manual_fc</td>\n",
       "      <td>cause</td>\n",
       "      <td>[]</td>\n",
       "      <td>[]</td>\n",
       "      <td>NaN</td>\n",
       "    </tr>\n",
       "    <tr>\n",
       "      <th>6</th>\n",
       "      <td>诊断操作</td>\n",
       "      <td>unique_id</td>\n",
       "      <td>manual_fc.diagnosisaction</td>\n",
       "      <td>直接</td>\n",
       "      <td>nan</td>\n",
       "      <td>nan</td>\n",
       "      <td>nan</td>\n",
       "      <td>nan</td>\n",
       "      <td>故障诊断</td>\n",
       "      <td>manual_fc</td>\n",
       "      <td>diagnosisaction</td>\n",
       "      <td>[]</td>\n",
       "      <td>[]</td>\n",
       "      <td>NaN</td>\n",
       "    </tr>\n",
       "    <tr>\n",
       "      <th>7</th>\n",
       "      <td>相关图片</td>\n",
       "      <td>unique_id</td>\n",
       "      <td>manual_fc.image</td>\n",
       "      <td>暂无</td>\n",
       "      <td>nan</td>\n",
       "      <td>nan</td>\n",
       "      <td>nan</td>\n",
       "      <td>nan</td>\n",
       "      <td>故障诊断</td>\n",
       "      <td>None</td>\n",
       "      <td>None</td>\n",
       "      <td>NaN</td>\n",
       "      <td>NaN</td>\n",
       "      <td>NaN</td>\n",
       "    </tr>\n",
       "    <tr>\n",
       "      <th>8</th>\n",
       "      <td>标准值</td>\n",
       "      <td>id</td>\n",
       "      <td>manual_fc.standardval</td>\n",
       "      <td>暂无</td>\n",
       "      <td>id,测量位置，限定类型，标准值类型，min单位，max单位，min，max，限定条件取值，...</td>\n",
       "      <td>nan</td>\n",
       "      <td>nan</td>\n",
       "      <td>nan</td>\n",
       "      <td>故障诊断</td>\n",
       "      <td>None</td>\n",
       "      <td>None</td>\n",
       "      <td>NaN</td>\n",
       "      <td>NaN</td>\n",
       "      <td>NaN</td>\n",
       "    </tr>\n",
       "    <tr>\n",
       "      <th>9</th>\n",
       "      <td>检查系统</td>\n",
       "      <td>unique_id</td>\n",
       "      <td>manual_fc.monitorsystem</td>\n",
       "      <td>直接</td>\n",
       "      <td>nan</td>\n",
       "      <td>nan</td>\n",
       "      <td>nan</td>\n",
       "      <td>nan</td>\n",
       "      <td>故障诊断</td>\n",
       "      <td>manual_fc</td>\n",
       "      <td>monitorsystem</td>\n",
       "      <td>[]</td>\n",
       "      <td>[]</td>\n",
       "      <td>NaN</td>\n",
       "    </tr>\n",
       "    <tr>\n",
       "      <th>10</th>\n",
       "      <td>部件</td>\n",
       "      <td>unique_id</td>\n",
       "      <td>manual_fc.part</td>\n",
       "      <td>直接</td>\n",
       "      <td>nan</td>\n",
       "      <td>nan</td>\n",
       "      <td>nan</td>\n",
       "      <td>nan</td>\n",
       "      <td>故障诊断</td>\n",
       "      <td>manual_fc</td>\n",
       "      <td>part</td>\n",
       "      <td>[]</td>\n",
       "      <td>[]</td>\n",
       "      <td>NaN</td>\n",
       "    </tr>\n",
       "    <tr>\n",
       "      <th>11</th>\n",
       "      <td>故障状态</td>\n",
       "      <td>nan</td>\n",
       "      <td>nan</td>\n",
       "      <td>暂无</td>\n",
       "      <td>nan</td>\n",
       "      <td>nan</td>\n",
       "      <td>nan</td>\n",
       "      <td>nan</td>\n",
       "      <td>故障诊断</td>\n",
       "      <td>None</td>\n",
       "      <td>None</td>\n",
       "      <td>NaN</td>\n",
       "      <td>NaN</td>\n",
       "      <td>NaN</td>\n",
       "    </tr>\n",
       "    <tr>\n",
       "      <th>12</th>\n",
       "      <td>故障诊断前的检查</td>\n",
       "      <td>nan</td>\n",
       "      <td>nan</td>\n",
       "      <td>暂无</td>\n",
       "      <td>检查对象，序号，项目，判断标准，解决办法</td>\n",
       "      <td>nan</td>\n",
       "      <td>nan</td>\n",
       "      <td>nan</td>\n",
       "      <td>故障诊断</td>\n",
       "      <td>None</td>\n",
       "      <td>None</td>\n",
       "      <td>NaN</td>\n",
       "      <td>NaN</td>\n",
       "      <td>NaN</td>\n",
       "    </tr>\n",
       "  </tbody>\n",
       "</table>\n",
       "</div>"
      ],
      "text/plain": [
       "   concept_ch display_name              table_and_column type  \\\n",
       "0          故障         故障名称           manual_fc.faultcode   直接   \n",
       "1        故障内容    unique_id        manual_fc.faultcontent   直接   \n",
       "2     机器发生的故障    unique_id        manual_fc.machinefault   直接   \n",
       "3      控制器的反应    unique_id  manual_fc.controllerreaction   直接   \n",
       "4        相关信息    unique_id         manual_fc.relatedinfo   直接   \n",
       "5        故障起因    unique_id               manual_fc.cause   直接   \n",
       "6        诊断操作    unique_id     manual_fc.diagnosisaction   直接   \n",
       "7        相关图片    unique_id               manual_fc.image   暂无   \n",
       "8         标准值           id         manual_fc.standardval   暂无   \n",
       "9        检查系统    unique_id       manual_fc.monitorsystem   直接   \n",
       "10         部件    unique_id                manual_fc.part   直接   \n",
       "11       故障状态          nan                           nan   暂无   \n",
       "12   故障诊断前的检查          nan                           nan   暂无   \n",
       "\n",
       "                                  inner_properties_ch    properties_col_str  \\\n",
       "0                                           故障名称,报警级别  faultname,alertlevel   \n",
       "1                                                 nan                   nan   \n",
       "2                                                 nan                   nan   \n",
       "3                                                 nan                   nan   \n",
       "4                                                 nan                   nan   \n",
       "5                                                 nan                   nan   \n",
       "6                                                 nan                   nan   \n",
       "7                                                 nan                   nan   \n",
       "8   id,测量位置，限定类型，标准值类型，min单位，max单位，min，max，限定条件取值，...                   nan   \n",
       "9                                                 nan                   nan   \n",
       "10                                                nan                   nan   \n",
       "11                                                nan                   nan   \n",
       "12                               检查对象，序号，项目，判断标准，解决办法                   nan   \n",
       "\n",
       "   code compound_table_str   所属域      table                 col  \\\n",
       "0   nan                nan  故障诊断  manual_fc           faultcode   \n",
       "1   nan                nan  故障诊断  manual_fc        faultcontent   \n",
       "2   nan                nan  故障诊断  manual_fc        machinefault   \n",
       "3   nan                nan  故障诊断  manual_fc  controllerreaction   \n",
       "4   nan                nan  故障诊断  manual_fc         relatedinfo   \n",
       "5   nan                nan  故障诊断  manual_fc               cause   \n",
       "6   nan                nan  故障诊断  manual_fc     diagnosisaction   \n",
       "7   nan                nan  故障诊断       None                None   \n",
       "8   nan                nan  故障诊断       None                None   \n",
       "9   nan                nan  故障诊断  manual_fc       monitorsystem   \n",
       "10  nan                nan  故障诊断  manual_fc                part   \n",
       "11  nan                nan  故障诊断       None                None   \n",
       "12  nan                nan  故障诊断       None                None   \n",
       "\n",
       "             properties_col properties_col_ch compound_table  \n",
       "0   [faultname, alertlevel]      [故障名称, 报警级别]            NaN  \n",
       "1                        []                []            NaN  \n",
       "2                        []                []            NaN  \n",
       "3                        []                []            NaN  \n",
       "4                        []                []            NaN  \n",
       "5                        []                []            NaN  \n",
       "6                        []                []            NaN  \n",
       "7                       NaN               NaN            NaN  \n",
       "8                       NaN               NaN            NaN  \n",
       "9                        []                []            NaN  \n",
       "10                       []                []            NaN  \n",
       "11                      NaN               NaN            NaN  \n",
       "12                      NaN               NaN            NaN  "
      ]
     },
     "execution_count": 7,
     "metadata": {},
     "output_type": "execute_result"
    }
   ],
   "source": [
    "dict_concept = {\"模式图中概念\":\"concept_ch\",\n",
    "                   \"显示名\":\"display_name\",\n",
    "                   \"数据库表/属性\":\"table_and_column\",\n",
    "                   \"类型\":\"type\",\n",
    "                   \"逻辑代码连接\":\"code\",\n",
    "                   \"内部属性\":\"inner_properties_ch\",\n",
    "                   \"内部属性对应数据库属性\":\"properties_col_str\",\n",
    "                   \"逻辑代码所需数据库表\":\"compound_table_str\"}\n",
    "dict_concept_reverse = {value:key for key,value in dict_concept.items()}\n",
    "\n",
    "df = pd.read_excel(open(option_config_file, 'rb'),sheet_name='模式图的概念与数据库对应表')\n",
    "for col in df.columns:\n",
    "    df[col] = df[col].astype(str).str.lower()\n",
    "    df[col] = df[col].str.replace(\"\\n\",\"\")\n",
    "df = df.rename(index=str, columns=dict_concept)\n",
    "# print(df)\n",
    "df['table'] = None\n",
    "df['col'] = None\n",
    "# df['test'] = df['concept_ch'].apply(split_compound_table)\n",
    "# print(df)\n",
    "# df[df['type'] == '直接']['table'] = df[df['type'] == '直接']['table_and_column'].astype(str).apply(lambda x: x.split('.')[0])\n",
    "df.loc[df['type'] == '直接','table'] = df[df['type'] == '直接']['table_and_column'].astype(str).apply(lambda x: x.split('.')[0])\n",
    "df.loc[df['type'] == '直接','col'] = option_column_prefix + df[df['type'] == '直接']['table_and_column'].astype(str).apply(lambda x: x.split('.')[1])\n",
    "df.loc[df['type'] == '直接','properties_col'] = df[df['type'] == '直接']['properties_col_str'].astype(str).apply(lambda x: [option_column_prefix+y for y in re.split(\",|，\", x) if x != \"nan\"] )\n",
    "df.loc[df['type'] == '直接','properties_col_ch'] = df[df['type'] == '直接']['inner_properties_ch'].astype(str).apply(lambda x: [y for y in re.split(\",|，\", x) if x != \"nan\"] )\n",
    "df.loc[(df['type'] == '合成概念'), 'table'] = df[(df['type'] == '合成概念')]['table_and_column'].astype(str)\n",
    "df.loc[(df['type'] == '合成概念') & (df['compound_table_str'] != 'nan'), 'compound_table'] = df[(df['type'] == '合成概念') & (df['compound_table_str'] != 'nan')]['compound_table_str'].astype(str).apply(split_compound_table)\n",
    "df_concept = df\n",
    "df_concept"
   ]
  },
  {
   "cell_type": "markdown",
   "metadata": {
    "heading_collapsed": true
   },
   "source": [
    "#### debug"
   ]
  },
  {
   "cell_type": "raw",
   "metadata": {
    "ExecuteTime": {
     "end_time": "2019-07-24T08:20:13.623920Z",
     "start_time": "2019-07-24T08:20:13.620928Z"
    },
    "hidden": true
   },
   "source": [
    "s = 'plt_intesrv_tysrvperson.oid-plt_intesrv_tyworkdispatch.useroid'\n",
    "compound = {}"
   ]
  },
  {
   "cell_type": "raw",
   "metadata": {
    "ExecuteTime": {
     "end_time": "2019-07-24T08:20:15.272538Z",
     "start_time": "2019-07-24T08:20:15.269518Z"
    },
    "hidden": true
   },
   "source": [
    "compound['main'] = s.split('-')[0]\n",
    "compound['foreign'] = s.split('-')[1]"
   ]
  },
  {
   "cell_type": "raw",
   "metadata": {
    "ExecuteTime": {
     "end_time": "2019-07-24T08:21:38.305629Z",
     "start_time": "2019-07-24T08:21:38.301643Z"
    },
    "hidden": true
   },
   "source": [
    "compound['main_table'] = compound['main'].split('.')[0]\n",
    "compound['main_col'] = option_column_prefix + compound['main'].split('.')[1]\n",
    "compound"
   ]
  },
  {
   "cell_type": "raw",
   "metadata": {
    "ExecuteTime": {
     "end_time": "2019-07-24T08:22:01.372660Z",
     "start_time": "2019-07-24T08:22:01.367674Z"
    },
    "hidden": true
   },
   "source": [
    "compound['foreign_table'] = compound['foreign'].split('.')[0]\n",
    "compound['foreign_col'] = option_column_prefix + compound['foreign'].split('.')[1]\n",
    "compound"
   ]
  },
  {
   "cell_type": "raw",
   "metadata": {
    "ExecuteTime": {
     "end_time": "2019-07-24T08:19:15.073445Z",
     "start_time": "2019-07-24T08:19:15.069454Z"
    },
    "hidden": true
   },
   "source": [
    "main.split('.')"
   ]
  },
  {
   "cell_type": "raw",
   "metadata": {
    "ExecuteTime": {
     "end_time": "2019-07-24T08:10:40.832197Z",
     "start_time": "2019-07-24T08:10:40.828207Z"
    },
    "hidden": true
   },
   "source": [
    "[y s.split('-')]"
   ]
  },
  {
   "cell_type": "raw",
   "metadata": {
    "ExecuteTime": {
     "end_time": "2019-07-24T08:10:21.075108Z",
     "start_time": "2019-07-24T08:10:21.070121Z"
    },
    "hidden": true
   },
   "source": [
    "df = df_concept\n",
    "df.loc[(df['type'] == '合成概念') & (df['compound_table'] != 'nan'), 'compound_table'][0]"
   ]
  },
  {
   "cell_type": "raw",
   "metadata": {
    "ExecuteTime": {
     "end_time": "2019-07-24T08:42:20.356022Z",
     "start_time": "2019-07-24T08:42:20.351999Z"
    },
    "hidden": true
   },
   "source": [
    "re.split(\",|，|-\", s)"
   ]
  },
  {
   "cell_type": "raw",
   "metadata": {
    "ExecuteTime": {
     "end_time": "2019-07-24T08:23:35.423837Z",
     "start_time": "2019-07-24T08:23:35.412841Z"
    },
    "hidden": true
   },
   "source": [
    "df[(df['type'] == '合成概念') & (df['compound_table'] != 'nan')]"
   ]
  },
  {
   "cell_type": "markdown",
   "metadata": {},
   "source": [
    "## 读取实体数据"
   ]
  },
  {
   "cell_type": "code",
   "execution_count": 8,
   "metadata": {
    "ExecuteTime": {
     "end_time": "2019-08-28T04:52:43.441664Z",
     "start_time": "2019-08-28T04:52:43.418726Z"
    }
   },
   "outputs": [
    {
     "name": "stdout",
     "output_type": "stream",
     "text": [
      "start to access table manual_fc\n",
      "(2519, 15)\n",
      "end to access table manual_fc\n"
     ]
    },
    {
     "data": {
      "text/plain": [
       "2519"
      ]
     },
     "execution_count": 8,
     "metadata": {},
     "output_type": "execute_result"
    }
   ],
   "source": [
    "tables = {}\n",
    "total_length = 0\n",
    "for table_name in tables_name:\n",
    "    print(\"start to access table \" + table_name)\n",
    "    path = option_entities_dir + table_name + \".csv\"\n",
    "    df = pd.read_csv(path,sep=';',encoding='utf-16')\n",
    "    for key in list(df.columns.values):  # 如果不这样的话，可能会读入int64的数字，但是neo4j不支持int64\n",
    "        df[key] = df[key].astype(\"object\")\n",
    "    print(df.shape) \n",
    "    total_length += df.shape[0]\n",
    "    tables[table_name] = df[:option_read_csv_row]\n",
    "    print(\"end to access table \" + table_name)\n",
    "# tables\n",
    "total_length # 60460"
   ]
  },
  {
   "cell_type": "markdown",
   "metadata": {},
   "source": [
    "## 导入Neo4j"
   ]
  },
  {
   "cell_type": "code",
   "execution_count": 9,
   "metadata": {
    "ExecuteTime": {
     "end_time": "2019-08-28T04:52:43.589293Z",
     "start_time": "2019-08-28T04:52:43.492528Z"
    }
   },
   "outputs": [],
   "source": [
    "graph = Graph('http://%s:%s'%(option_neo4j_ip,option_neo4j_port),username=option_userName,password=option_passWord)"
   ]
  },
  {
   "cell_type": "code",
   "execution_count": 10,
   "metadata": {
    "ExecuteTime": {
     "end_time": "2019-08-28T04:52:46.015174Z",
     "start_time": "2019-08-28T04:52:43.590266Z"
    }
   },
   "outputs": [],
   "source": [
    "if option_deleteAllFlag == 1:\n",
    "    # 只删除本个label域下的节点和关系\n",
    "    graph.run(\"MATCH (n:%s) OPTIONAL MATCH (n)-[r]-() DELETE r,n\"%(option_label)) \n",
    "    graph.delete_all()\n"
   ]
  },
  {
   "cell_type": "markdown",
   "metadata": {},
   "source": [
    "### 模式图"
   ]
  },
  {
   "cell_type": "code",
   "execution_count": 11,
   "metadata": {
    "ExecuteTime": {
     "end_time": "2019-08-28T04:52:46.031159Z",
     "start_time": "2019-08-28T04:52:46.016172Z"
    }
   },
   "outputs": [
    {
     "data": {
      "text/html": [
       "<div>\n",
       "<style scoped>\n",
       "    .dataframe tbody tr th:only-of-type {\n",
       "        vertical-align: middle;\n",
       "    }\n",
       "\n",
       "    .dataframe tbody tr th {\n",
       "        vertical-align: top;\n",
       "    }\n",
       "\n",
       "    .dataframe thead th {\n",
       "        text-align: right;\n",
       "    }\n",
       "</style>\n",
       "<table border=\"1\" class=\"dataframe\">\n",
       "  <thead>\n",
       "    <tr style=\"text-align: right;\">\n",
       "      <th></th>\n",
       "      <th>concept_ch</th>\n",
       "      <th>display_name</th>\n",
       "      <th>table_and_column</th>\n",
       "      <th>type</th>\n",
       "      <th>inner_properties_ch</th>\n",
       "      <th>properties_col_str</th>\n",
       "      <th>code</th>\n",
       "      <th>compound_table_str</th>\n",
       "      <th>所属域</th>\n",
       "      <th>table</th>\n",
       "      <th>col</th>\n",
       "      <th>properties_col</th>\n",
       "      <th>properties_col_ch</th>\n",
       "      <th>compound_table</th>\n",
       "    </tr>\n",
       "  </thead>\n",
       "  <tbody>\n",
       "    <tr>\n",
       "      <th>0</th>\n",
       "      <td>故障</td>\n",
       "      <td>故障名称</td>\n",
       "      <td>manual_fc.faultcode</td>\n",
       "      <td>直接</td>\n",
       "      <td>故障名称,报警级别</td>\n",
       "      <td>faultname,alertlevel</td>\n",
       "      <td>nan</td>\n",
       "      <td>nan</td>\n",
       "      <td>故障诊断</td>\n",
       "      <td>manual_fc</td>\n",
       "      <td>faultcode</td>\n",
       "      <td>[faultname, alertlevel]</td>\n",
       "      <td>[故障名称, 报警级别]</td>\n",
       "      <td>NaN</td>\n",
       "    </tr>\n",
       "    <tr>\n",
       "      <th>1</th>\n",
       "      <td>故障内容</td>\n",
       "      <td>unique_id</td>\n",
       "      <td>manual_fc.faultcontent</td>\n",
       "      <td>直接</td>\n",
       "      <td>nan</td>\n",
       "      <td>nan</td>\n",
       "      <td>nan</td>\n",
       "      <td>nan</td>\n",
       "      <td>故障诊断</td>\n",
       "      <td>manual_fc</td>\n",
       "      <td>faultcontent</td>\n",
       "      <td>[]</td>\n",
       "      <td>[]</td>\n",
       "      <td>NaN</td>\n",
       "    </tr>\n",
       "    <tr>\n",
       "      <th>2</th>\n",
       "      <td>机器发生的故障</td>\n",
       "      <td>unique_id</td>\n",
       "      <td>manual_fc.machinefault</td>\n",
       "      <td>直接</td>\n",
       "      <td>nan</td>\n",
       "      <td>nan</td>\n",
       "      <td>nan</td>\n",
       "      <td>nan</td>\n",
       "      <td>故障诊断</td>\n",
       "      <td>manual_fc</td>\n",
       "      <td>machinefault</td>\n",
       "      <td>[]</td>\n",
       "      <td>[]</td>\n",
       "      <td>NaN</td>\n",
       "    </tr>\n",
       "    <tr>\n",
       "      <th>3</th>\n",
       "      <td>控制器的反应</td>\n",
       "      <td>unique_id</td>\n",
       "      <td>manual_fc.controllerreaction</td>\n",
       "      <td>直接</td>\n",
       "      <td>nan</td>\n",
       "      <td>nan</td>\n",
       "      <td>nan</td>\n",
       "      <td>nan</td>\n",
       "      <td>故障诊断</td>\n",
       "      <td>manual_fc</td>\n",
       "      <td>controllerreaction</td>\n",
       "      <td>[]</td>\n",
       "      <td>[]</td>\n",
       "      <td>NaN</td>\n",
       "    </tr>\n",
       "    <tr>\n",
       "      <th>4</th>\n",
       "      <td>相关信息</td>\n",
       "      <td>unique_id</td>\n",
       "      <td>manual_fc.relatedinfo</td>\n",
       "      <td>直接</td>\n",
       "      <td>nan</td>\n",
       "      <td>nan</td>\n",
       "      <td>nan</td>\n",
       "      <td>nan</td>\n",
       "      <td>故障诊断</td>\n",
       "      <td>manual_fc</td>\n",
       "      <td>relatedinfo</td>\n",
       "      <td>[]</td>\n",
       "      <td>[]</td>\n",
       "      <td>NaN</td>\n",
       "    </tr>\n",
       "  </tbody>\n",
       "</table>\n",
       "</div>"
      ],
      "text/plain": [
       "  concept_ch display_name              table_and_column type  \\\n",
       "0         故障         故障名称           manual_fc.faultcode   直接   \n",
       "1       故障内容    unique_id        manual_fc.faultcontent   直接   \n",
       "2    机器发生的故障    unique_id        manual_fc.machinefault   直接   \n",
       "3     控制器的反应    unique_id  manual_fc.controllerreaction   直接   \n",
       "4       相关信息    unique_id         manual_fc.relatedinfo   直接   \n",
       "\n",
       "  inner_properties_ch    properties_col_str code compound_table_str   所属域  \\\n",
       "0           故障名称,报警级别  faultname,alertlevel  nan                nan  故障诊断   \n",
       "1                 nan                   nan  nan                nan  故障诊断   \n",
       "2                 nan                   nan  nan                nan  故障诊断   \n",
       "3                 nan                   nan  nan                nan  故障诊断   \n",
       "4                 nan                   nan  nan                nan  故障诊断   \n",
       "\n",
       "       table                 col           properties_col properties_col_ch  \\\n",
       "0  manual_fc           faultcode  [faultname, alertlevel]      [故障名称, 报警级别]   \n",
       "1  manual_fc        faultcontent                       []                []   \n",
       "2  manual_fc        machinefault                       []                []   \n",
       "3  manual_fc  controllerreaction                       []                []   \n",
       "4  manual_fc         relatedinfo                       []                []   \n",
       "\n",
       "  compound_table  \n",
       "0            NaN  \n",
       "1            NaN  \n",
       "2            NaN  \n",
       "3            NaN  \n",
       "4            NaN  "
      ]
     },
     "execution_count": 11,
     "metadata": {},
     "output_type": "execute_result"
    }
   ],
   "source": [
    "df_concept.head()"
   ]
  },
  {
   "cell_type": "code",
   "execution_count": 12,
   "metadata": {
    "ExecuteTime": {
     "end_time": "2019-08-28T04:52:46.650589Z",
     "start_time": "2019-08-28T04:52:46.032130Z"
    },
    "code_folding": [],
    "scrolled": false
   },
   "outputs": [
    {
     "name": "stderr",
     "output_type": "stream",
     "text": [
      "100%|██████████████████████████████████████████████████████████████████████████████████| 13/13 [00:00<00:00, 21.94it/s]\n"
     ]
    }
   ],
   "source": [
    "nodes_concept = {}\n",
    "for index in tqdm(list(df_concept.index)):\n",
    "    index = int(index)\n",
    "#     print(index)\n",
    "#     print(df_concept.iloc[index]['concept_ch'])\n",
    "    key = df_concept.iloc[index]['concept_ch']\n",
    "    nodes_concept[key] = Node(key)\n",
    "    nodes_concept[key].add_label(\"概念节点\")\n",
    "    if option_label != \"\":\n",
    "        nodes_concept[key].add_label(option_label)\n",
    "        nodes_concept[key]['domain_name'] = option_label\n",
    "    # 为概念节点增加属性，把该有的东西都放进去\n",
    "    for col in list(df_concept.columns.values):\n",
    "        col_chinese = dict_concept_reverse[col] if col in dict_concept_reverse.keys() else col\n",
    "        nodes_concept[key][col_chinese] = str(df_concept[col][index]) if df_concept[col][index] == df_concept[col][index] else \"\"\n",
    "#     print(nodes_concept[key])\n",
    "    graph.create(nodes_concept[key])"
   ]
  },
  {
   "cell_type": "code",
   "execution_count": 13,
   "metadata": {
    "ExecuteTime": {
     "end_time": "2019-08-28T04:52:46.663554Z",
     "start_time": "2019-08-28T04:52:46.651585Z"
    }
   },
   "outputs": [
    {
     "data": {
      "text/html": [
       "<div>\n",
       "<style scoped>\n",
       "    .dataframe tbody tr th:only-of-type {\n",
       "        vertical-align: middle;\n",
       "    }\n",
       "\n",
       "    .dataframe tbody tr th {\n",
       "        vertical-align: top;\n",
       "    }\n",
       "\n",
       "    .dataframe thead th {\n",
       "        text-align: right;\n",
       "    }\n",
       "</style>\n",
       "<table border=\"1\" class=\"dataframe\">\n",
       "  <thead>\n",
       "    <tr style=\"text-align: right;\">\n",
       "      <th></th>\n",
       "      <th>id</th>\n",
       "      <th>sub</th>\n",
       "      <th>predicate</th>\n",
       "      <th>obj</th>\n",
       "      <th>table</th>\n",
       "      <th>type</th>\n",
       "      <th>prop_ch_str</th>\n",
       "      <th>prop_col_str</th>\n",
       "      <th>prop_ch</th>\n",
       "      <th>prop_col</th>\n",
       "    </tr>\n",
       "  </thead>\n",
       "  <tbody>\n",
       "    <tr>\n",
       "      <th>0</th>\n",
       "      <td>1</td>\n",
       "      <td>故障</td>\n",
       "      <td>包含</td>\n",
       "      <td>故障内容</td>\n",
       "      <td>manual_fc</td>\n",
       "      <td>nan</td>\n",
       "      <td>nan</td>\n",
       "      <td>nan</td>\n",
       "      <td>[]</td>\n",
       "      <td>[]</td>\n",
       "    </tr>\n",
       "    <tr>\n",
       "      <th>1</th>\n",
       "      <td>2</td>\n",
       "      <td>故障</td>\n",
       "      <td>包含</td>\n",
       "      <td>相关信息</td>\n",
       "      <td>manual_fc</td>\n",
       "      <td>nan</td>\n",
       "      <td>nan</td>\n",
       "      <td>nan</td>\n",
       "      <td>[]</td>\n",
       "      <td>[]</td>\n",
       "    </tr>\n",
       "    <tr>\n",
       "      <th>2</th>\n",
       "      <td>3</td>\n",
       "      <td>故障</td>\n",
       "      <td>导致</td>\n",
       "      <td>机器发生的故障</td>\n",
       "      <td>manual_fc</td>\n",
       "      <td>nan</td>\n",
       "      <td>nan</td>\n",
       "      <td>nan</td>\n",
       "      <td>[]</td>\n",
       "      <td>[]</td>\n",
       "    </tr>\n",
       "    <tr>\n",
       "      <th>3</th>\n",
       "      <td>4</td>\n",
       "      <td>故障</td>\n",
       "      <td>表现为</td>\n",
       "      <td>控制器的反应</td>\n",
       "      <td>manual_fc</td>\n",
       "      <td>nan</td>\n",
       "      <td>nan</td>\n",
       "      <td>nan</td>\n",
       "      <td>[]</td>\n",
       "      <td>[]</td>\n",
       "    </tr>\n",
       "    <tr>\n",
       "      <th>4</th>\n",
       "      <td>5</td>\n",
       "      <td>故障</td>\n",
       "      <td>包含</td>\n",
       "      <td>相关图片</td>\n",
       "      <td>nan</td>\n",
       "      <td>暂无</td>\n",
       "      <td>nan</td>\n",
       "      <td>nan</td>\n",
       "      <td>[]</td>\n",
       "      <td>[]</td>\n",
       "    </tr>\n",
       "  </tbody>\n",
       "</table>\n",
       "</div>"
      ],
      "text/plain": [
       "  id sub predicate      obj      table type prop_ch_str prop_col_str prop_ch  \\\n",
       "0  1  故障        包含     故障内容  manual_fc  nan         nan          nan      []   \n",
       "1  2  故障        包含     相关信息  manual_fc  nan         nan          nan      []   \n",
       "2  3  故障        导致  机器发生的故障  manual_fc  nan         nan          nan      []   \n",
       "3  4  故障       表现为   控制器的反应  manual_fc  nan         nan          nan      []   \n",
       "4  5  故障        包含     相关图片        nan   暂无         nan          nan      []   \n",
       "\n",
       "  prop_col  \n",
       "0       []  \n",
       "1       []  \n",
       "2       []  \n",
       "3       []  \n",
       "4       []  "
      ]
     },
     "execution_count": 13,
     "metadata": {},
     "output_type": "execute_result"
    }
   ],
   "source": [
    "df_relation.head()"
   ]
  },
  {
   "cell_type": "code",
   "execution_count": 14,
   "metadata": {
    "ExecuteTime": {
     "end_time": "2019-08-28T04:52:47.509890Z",
     "start_time": "2019-08-28T04:52:46.664551Z"
    },
    "scrolled": true
   },
   "outputs": [
    {
     "name": "stderr",
     "output_type": "stream",
     "text": [
      "100%|██████████████████████████████████████████████████████████████████████████████████| 17/17 [00:00<00:00, 21.00it/s]\n"
     ]
    }
   ],
   "source": [
    "for index in tqdm(list(df_relation.index)):\n",
    "    index = int(index)\n",
    "#     print(index)\n",
    "    sub = df_relation.iloc[index]['sub']\n",
    "    obj = df_relation.iloc[index]['obj']\n",
    "#     try:\n",
    "#     print(sub)\n",
    "#     print(obj)\n",
    "    aRelation = Relationship(nodes_concept[sub], df_relation.iloc[index]['predicate'], nodes_concept[obj] )\n",
    "    aRelation[\"id_relation\"] = df_relation.iloc[index]['id']\n",
    "    for col in list(df_relation.columns.values):\n",
    "        col_chinese = dict_relation_reverse[col] if col in dict_relation_reverse.keys() else col\n",
    "        aRelation[col_chinese] = df_relation[col][index] if df_relation[col][index] == df_relation[col][index] else \"\"\n",
    "     \n",
    "    graph.create(aRelation)\n",
    "#     except(KeyError):\n",
    "#         pass"
   ]
  },
  {
   "cell_type": "markdown",
   "metadata": {},
   "source": [
    "### 合成概念函数test"
   ]
  },
  {
   "cell_type": "code",
   "execution_count": 15,
   "metadata": {
    "ExecuteTime": {
     "end_time": "2019-08-28T04:52:47.513878Z",
     "start_time": "2019-08-28T04:52:47.510886Z"
    }
   },
   "outputs": [],
   "source": [
    "def test1(df):\n",
    "#     print(df)\n",
    "    return df['plt_lastmodifytime'][0] + \" and \" + df['plt_createtime'][0]"
   ]
  },
  {
   "cell_type": "code",
   "execution_count": 16,
   "metadata": {
    "ExecuteTime": {
     "end_time": "2019-08-28T04:52:47.540807Z",
     "start_time": "2019-08-28T04:52:47.514877Z"
    }
   },
   "outputs": [],
   "source": [
    "def test2(df):\n",
    "#     print(df)\n",
    "    return len(df)"
   ]
  },
  {
   "cell_type": "code",
   "execution_count": 17,
   "metadata": {
    "ExecuteTime": {
     "end_time": "2019-08-28T04:52:47.609636Z",
     "start_time": "2019-08-28T04:52:47.541804Z"
    }
   },
   "outputs": [],
   "source": [
    "def test3(df):\n",
    "#     print(df)\n",
    "    return len(df)"
   ]
  },
  {
   "cell_type": "markdown",
   "metadata": {},
   "source": [
    "### 数据图"
   ]
  },
  {
   "cell_type": "markdown",
   "metadata": {
    "heading_collapsed": true
   },
   "source": [
    "#### 单个表数据(debug)"
   ]
  },
  {
   "cell_type": "raw",
   "metadata": {
    "ExecuteTime": {
     "end_time": "2019-07-16T18:01:31.560051Z",
     "start_time": "2019-07-16T18:01:31.556035Z"
    },
    "hidden": true
   },
   "source": [
    "table_name = 'plt_intesrv_tyworkdispatch'"
   ]
  },
  {
   "cell_type": "raw",
   "metadata": {
    "ExecuteTime": {
     "end_time": "2019-07-16T18:01:32.073652Z",
     "start_time": "2019-07-16T18:01:32.051734Z"
    },
    "hidden": true,
    "scrolled": true
   },
   "source": [
    "# table\n",
    "df_table = tables[table_name]\n",
    "# df_table[['plt_safeguardtype','plt_srvarea','plt_oid','plt_worktype','plt_tycustomeroid']]\n",
    "# df_table[['plt_custlable','plt_oid']]\n",
    "df_table"
   ]
  },
  {
   "cell_type": "raw",
   "metadata": {
    "ExecuteTime": {
     "end_time": "2019-07-16T16:51:08.388490Z",
     "start_time": "2019-07-16T16:51:08.385520Z"
    },
    "hidden": true
   },
   "source": [
    "table_name = 'plt_intesrv_tycustomer'"
   ]
  },
  {
   "cell_type": "raw",
   "metadata": {
    "ExecuteTime": {
     "end_time": "2019-07-16T16:51:08.762531Z",
     "start_time": "2019-07-16T16:51:08.755507Z"
    },
    "hidden": true
   },
   "source": [
    "# table\n",
    "df_table = tables[table_name]\n",
    "# df_table[['plt_safeguardtype','plt_srvarea','plt_oid','plt_worktype','plt_tycustomeroid']]\n",
    "df_table[['plt_custlable','plt_oid','plt_customername']]"
   ]
  },
  {
   "cell_type": "raw",
   "metadata": {
    "ExecuteTime": {
     "end_time": "2019-07-16T18:01:35.162214Z",
     "start_time": "2019-07-16T18:01:35.158217Z"
    },
    "hidden": true
   },
   "source": [
    "df_table.columns"
   ]
  },
  {
   "cell_type": "raw",
   "metadata": {
    "ExecuteTime": {
     "end_time": "2019-07-16T13:43:53.399795Z",
     "start_time": "2019-07-16T13:43:53.361906Z"
    },
    "collapsed": true,
    "hidden": true
   },
   "source": [
    "for col in df_table.columns:\n",
    "    print(col)"
   ]
  },
  {
   "cell_type": "raw",
   "metadata": {
    "ExecuteTime": {
     "end_time": "2019-07-16T13:16:47.014616Z",
     "start_time": "2019-07-16T13:16:46.986724Z"
    },
    "collapsed": true,
    "hidden": true
   },
   "source": [
    "total = 0\n",
    "for table_name in tables_name:\n",
    "    print(\"%-30s \\t %d\"%(table_name, df_relation[df_relation['table'] == table_name].shape[0]))\n",
    "    total += df_relation[df_relation['table'] == table_name].shape[0]\n",
    "print(total)"
   ]
  },
  {
   "cell_type": "raw",
   "metadata": {
    "ExecuteTime": {
     "end_time": "2019-07-16T13:18:24.491785Z",
     "start_time": "2019-07-16T13:18:24.483807Z"
    },
    "hidden": true
   },
   "source": [
    "relations = df_relation[df_relation['table'] == 'plt_intesrv_tydevice']\n",
    "relations"
   ]
  },
  {
   "cell_type": "raw",
   "metadata": {
    "ExecuteTime": {
     "end_time": "2019-07-16T16:51:49.347305Z",
     "start_time": "2019-07-16T16:51:49.334303Z"
    },
    "hidden": true
   },
   "source": [
    "df_concept_one_table = df_concept[df_concept['table'] == table_name]\n",
    "df_concept_one_table"
   ]
  },
  {
   "cell_type": "raw",
   "metadata": {
    "ExecuteTime": {
     "end_time": "2019-07-16T16:51:49.720301Z",
     "start_time": "2019-07-16T16:51:49.717280Z"
    },
    "hidden": true
   },
   "source": [
    "df_concept_one_table['properties_col_str'][1]"
   ]
  },
  {
   "cell_type": "raw",
   "metadata": {
    "ExecuteTime": {
     "end_time": "2019-07-16T16:51:50.793639Z",
     "start_time": "2019-07-16T16:51:50.785661Z"
    },
    "hidden": true
   },
   "source": [
    "df_relation_one_table = df_relation[df_relation['table'] == table_name]\n",
    "df_relation_one_table"
   ]
  },
  {
   "cell_type": "raw",
   "metadata": {
    "ExecuteTime": {
     "end_time": "2019-07-16T15:26:41.443492Z",
     "start_time": "2019-07-16T15:26:41.439539Z"
    },
    "hidden": true
   },
   "source": [
    "'挖掘机' in list(df_concept_one_table['concept_ch'])"
   ]
  },
  {
   "cell_type": "raw",
   "metadata": {
    "ExecuteTime": {
     "end_time": "2019-07-16T15:29:46.550278Z",
     "start_time": "2019-07-16T15:29:46.546287Z"
    },
    "hidden": true
   },
   "source": [
    "'挖掘机' in entity_node.keys()"
   ]
  },
  {
   "cell_type": "raw",
   "metadata": {
    "ExecuteTime": {
     "end_time": "2019-07-16T16:13:55.936126Z",
     "start_time": "2019-07-16T16:13:55.932106Z"
    },
    "hidden": true
   },
   "source": [
    "df_concept.loc[df_concept['concept_ch'] == '挖掘机', 'table']\n"
   ]
  },
  {
   "cell_type": "raw",
   "metadata": {
    "ExecuteTime": {
     "end_time": "2019-07-16T16:14:57.128830Z",
     "start_time": "2019-07-16T16:14:57.121849Z"
    },
    "hidden": true
   },
   "source": [
    "primary_key_table = df_concept.loc[df_concept['concept_ch'] == '客户', 'table'].item()\n",
    "primary_key_col = df_concept.loc[df_concept['concept_ch'] == '客户', 'col'].item()\n",
    "print(type(primary_key_table)) \n",
    "primary_key_table, primary_key_col"
   ]
  },
  {
   "cell_type": "raw",
   "metadata": {
    "ExecuteTime": {
     "end_time": "2019-07-16T16:07:30.074836Z",
     "start_time": "2019-07-16T16:07:30.066858Z"
    },
    "hidden": true
   },
   "source": [
    "df_foreign.head()"
   ]
  },
  {
   "cell_type": "raw",
   "metadata": {
    "ExecuteTime": {
     "end_time": "2019-07-16T16:09:54.710838Z",
     "start_time": "2019-07-16T16:09:54.705851Z"
    },
    "hidden": true
   },
   "source": [
    "df_foreign['primary_table'] == primary_key_table "
   ]
  },
  {
   "cell_type": "raw",
   "metadata": {
    "ExecuteTime": {
     "end_time": "2019-07-16T16:12:06.318272Z",
     "start_time": "2019-07-16T16:12:06.313284Z"
    },
    "hidden": true
   },
   "source": [
    "(df_foreign['primary_key'] == primary_key_col) & (df_foreign['primary_table'] == primary_key_table )"
   ]
  },
  {
   "cell_type": "raw",
   "metadata": {
    "ExecuteTime": {
     "end_time": "2019-07-16T16:14:16.946241Z",
     "start_time": "2019-07-16T16:14:16.941238Z"
    },
    "hidden": true
   },
   "source": [
    "df_foreign.loc[(df_foreign['primary_table'] == primary_key_table)\n",
    "              & (df_foreign['primary_key'] == primary_key_col)\n",
    "              & (df_foreign['foreign_table'] == table_name), 'foreign_key']"
   ]
  },
  {
   "cell_type": "raw",
   "metadata": {
    "ExecuteTime": {
     "end_time": "2019-07-16T16:14:41.301084Z",
     "start_time": "2019-07-16T16:14:41.296066Z"
    },
    "hidden": true
   },
   "source": [
    "df_foreign.loc[(df_foreign['primary_table'] == primary_key_table)\n",
    "              & (df_foreign['primary_key'] == primary_key_col)\n",
    "              & (df_foreign['foreign_table'] == table_name), 'foreign_key'].item()"
   ]
  },
  {
   "cell_type": "markdown",
   "metadata": {},
   "source": [
    "#### 所有数据"
   ]
  },
  {
   "cell_type": "code",
   "execution_count": 18,
   "metadata": {
    "ExecuteTime": {
     "end_time": "2019-08-28T04:52:47.626590Z",
     "start_time": "2019-08-28T04:52:47.610634Z"
    }
   },
   "outputs": [
    {
     "data": {
      "text/plain": [
       "1.09"
      ]
     },
     "execution_count": 18,
     "metadata": {},
     "output_type": "execute_result"
    }
   ],
   "source": [
    "def change2float(x):\n",
    "    if re.match(\"^\\d+?(\\.\\d+?)?$\", str(x)) is None:\n",
    "        return x\n",
    "    else:\n",
    "        return float(x)\n",
    "change2float('1.09')"
   ]
  },
  {
   "cell_type": "code",
   "execution_count": 19,
   "metadata": {
    "ExecuteTime": {
     "end_time": "2019-08-28T04:52:47.647536Z",
     "start_time": "2019-08-28T04:52:47.627588Z"
    }
   },
   "outputs": [],
   "source": [
    "def transferOneRowToNeo4j():\n",
    "    def establishNode():\n",
    "        def establishDirectNode():\n",
    "            pass\n",
    "        def establishCompoundNode():\n",
    "            pass\n",
    "        establishDirectNode()\n",
    "        establishCompoundNode()\n",
    "        pass\n",
    "    def establishRelation():\n",
    "        def retrieveNode():\n",
    "            pass\n",
    "        def establishRelationWithNode():\n",
    "            pass\n",
    "        retrieveNode()\n",
    "        establishRelationWithNode()\n",
    "        pass\n",
    "    establishNode()\n",
    "    establishRelation()\n",
    "    pass\n",
    "transferOneRowToNeo4j()\n",
    "# 考虑换成class，一个public函数，其余函数都是private"
   ]
  },
  {
   "cell_type": "code",
   "execution_count": 20,
   "metadata": {
    "ExecuteTime": {
     "end_time": "2019-08-28T04:52:47.685434Z",
     "start_time": "2019-08-28T04:52:47.648532Z"
    }
   },
   "outputs": [
    {
     "name": "stdout",
     "output_type": "stream",
     "text": [
      "manual_fc\n"
     ]
    },
    {
     "name": "stderr",
     "output_type": "stream",
     "text": [
      "100%|█████████████████████████████████████████████████████████████████████████| 2518/2518 [00:00<00:00, 1262855.13it/s]\n"
     ]
    }
   ],
   "source": [
    "for table_name in tables_name:\n",
    "    print(table_name)\n",
    "    # 取出属于本表的几个小表，包括实体数据表、概念表、关系表\n",
    "    df_table = tables[table_name]\n",
    "    df_concept_one_table = df_concept[df_concept['table'] == table_name]\n",
    "    df_relation_one_table = df_relation[df_relation['table'] == table_name]\n",
    "\n",
    "    concept_ch_list_one_table = list(df_concept_one_table['concept_ch'])\n",
    "    for i_row in tqdm(range(0,df_table.shape[0])): \n",
    "        transferOneRowToNeo4j()"
   ]
  },
  {
   "cell_type": "code",
   "execution_count": 21,
   "metadata": {
    "ExecuteTime": {
     "end_time": "2019-08-28T04:56:43.420925Z",
     "start_time": "2019-08-28T04:52:47.686431Z"
    }
   },
   "outputs": [
    {
     "name": "stdout",
     "output_type": "stream",
     "text": [
      "manual_fc\n"
     ]
    },
    {
     "name": "stderr",
     "output_type": "stream",
     "text": [
      "100%|██████████████████████████████████████████████████████████████████████████████| 2518/2518 [03:55<00:00, 10.68it/s]\n"
     ]
    }
   ],
   "source": [
    "# if option_deleteAllFlag == 1:\n",
    "#     graph.delete_all()\n",
    "\n",
    "# table_name = 'plt_intesrv_tydevice'\n",
    "for table_name in tables_name:\n",
    "    print(table_name)\n",
    "    # 取出属于本表的几个小表，包括实体数据表、概念表、关系表\n",
    "    df_table = tables[table_name]\n",
    "    df_concept_one_table = df_concept[df_concept['table'] == table_name]\n",
    "    df_relation_one_table = df_relation[df_relation['table'] == table_name]\n",
    "\n",
    "    concept_ch_list_one_table = list(df_concept_one_table['concept_ch'])\n",
    "    # 对于数据表的每行进行处理\n",
    "    for i_row in tqdm(range(0,df_table.shape[0])): \n",
    "#         print(i_row)\n",
    "        entity_node = {}\n",
    "        # 对于概念表中的每个概念进行处理\n",
    "        for i_entity in list(df_concept_one_table.index):\n",
    "            key = df_concept_one_table['concept_ch'][i_entity] # eg:\"客户\",\"挖掘机\"\n",
    "            if df_concept_one_table['type'][i_entity] == '直接':\n",
    "                value = df_table[ df_concept_one_table['col'][i_entity] ][i_row] # eg:\"张三\",\"PC200\"\n",
    "                if value == value: # 如果该节点的值非空\n",
    "                    nodeBefore = graph.nodes.match(key, value=value).first()\n",
    "                    if nodeBefore is None:\n",
    "                        aNode = Node(key)\n",
    "                        aNode['value'] = change2float(value)\n",
    "                        aNode['type'] = key\n",
    "                        aNode.add_label(\"实例节点\") # Neo4j的官方label，支持高效索引\n",
    "\n",
    "                        # 为该节点增加对应属性\n",
    "                        assert len(df_concept_one_table['properties_col'][i_entity]) == len(df_concept_one_table['properties_col_ch'][i_entity]) \\\n",
    "                            , \"properties_col=%s, properties_col_ch=%s. They have different length.\"%(str(df_concept_one_table['properties_col'][i_entity]), str(df_concept_one_table['properties_col_ch'][i_entity]))\n",
    "                        prop_num = len(df_concept_one_table['properties_col'][i_entity])\n",
    "                        for i_prop in range(0,prop_num):\n",
    "                            prop_key = df_concept_one_table['properties_col'][i_entity][i_prop]  # eg: prop_key = 'plt_devicebrand'\n",
    "                            prop_key_ch = df_concept_one_table['properties_col_ch'][i_entity][i_prop] # eg: prop_key_ch = '品牌'\n",
    "                            prop_value = df_table[prop_key][i_row]\n",
    "                            if prop_value == prop_value: \n",
    "                                aNode[prop_key_ch] = change2float(prop_value)\n",
    "                            else: # 属性值如果为空的话，会置为空字符串\n",
    "                                aNode[prop_key_ch] = ''\n",
    "\n",
    "                        # 为该节点增加display_name属性\n",
    "    #                     display = \"(\" + str(key) + \")\"\n",
    "                        display = str(key) + \":\"\n",
    "                        display_col = df_concept_one_table['display_name'][i_entity]\n",
    "                        if display_col == 'unique_id':\n",
    "                            display += value \n",
    "                        elif display_col == \"nan\": # 如果那一列为空的话，display就只显示概念名，不显示具体指\n",
    "                            display_col = display_col[:-2]\n",
    "                        else:\n",
    "                            # 根据中文列名找到数据库列名\n",
    "                            prop_num = len(df_concept_one_table['properties_col'][i_entity])\n",
    "                            for i_prop in range(0,prop_num):\n",
    "                                prop_key = df_concept_one_table['properties_col'][i_entity][i_prop]  # eg: prop_key = 'plt_devicebrand'\n",
    "                                prop_key_ch = df_concept_one_table['properties_col_ch'][i_entity][i_prop] # eg: prop_key_ch = '品牌'\n",
    "                                if prop_key_ch == display_col:\n",
    "                                    break\n",
    "                            assert i_prop != prop_num - 1 or (i_prop == prop_num - 1 and prop_key_ch == display_col) \\\n",
    "                                , \"display_col=%s, properties_col_ch=%s. display_col doesn't exist in properties_col_ch.\"%(display_col, str(df_concept_one_table['properties_col_ch'][i_entity]))\n",
    "                            display += str(df_table[prop_key][i_row])\n",
    "    #                     print(\"debug:display=\", display)\n",
    "                        aNode['display_name'] = display\n",
    "                        if option_label != \"\":\n",
    "                            aNode.add_label(option_label)\n",
    "                            aNode['domain_name'] = option_label\n",
    "    #                     print(aNode)\n",
    "                        graph.create(aNode)\n",
    "                    else:\n",
    "                        aNode = nodeBefore\n",
    "                    entity_node[key] = aNode\n",
    "            # 生成合成概念实体\n",
    "            elif df_concept_one_table['type'][i_entity] == '合成概念':\n",
    "#                 print(df_concept_one_table['concept_ch'][i_entity])\n",
    "#                 print(df_concept_one_table['compound_table'][i_entity])\n",
    "                if str(df_concept_one_table['compound_table'][i_entity]) == 'nan': # 非空的话只需要把当前所在行传入函数\n",
    "                    indexs = [] \n",
    "                    indexs.append(i_row)\n",
    "                    # use list as index to return DataFrame instead of Series though the list has only one element\n",
    "                    df_compound_need = df_table.loc[indexs,:].reset_index(drop=True) \n",
    "                else: # 处理联合多表的情况\n",
    "                    compound = df_concept_one_table['compound_table'][i_entity][0]\n",
    "                    assert table_name == compound['main_table'] # 第一个跳转表的主表应该得是本表\n",
    "                    main_key_value = df_table[compound['main_col']][i_row]\n",
    "                    df_table_new = tables[compound['foreign_table']]\n",
    "                    foreign_col = compound['foreign_col']\n",
    "                    df_compound_need = df_table_new.loc[df_table_new[foreign_col] == main_key_value]\n",
    "                    # TODO:处理联合多表的情况\n",
    "                value = eval(df_concept_one_table['code'][i_entity] + \"(df_compound_need)\")\n",
    "                aNode = Node(key)\n",
    "                aNode['value'] = change2float(value)\n",
    "                aNode['type'] = key\n",
    "                aNode['display_name'] = str(key) + \":\" + str(value) \n",
    "                if option_label != \"\":\n",
    "                    aNode.add_label(option_label)\n",
    "                    aNode['domain_name'] = option_label\n",
    "                graph.create(aNode)\n",
    "                entity_node[key] = aNode\n",
    "    #     print(entity_node)\n",
    "    \n",
    "        # 建立本行数据中的节点间的关系\n",
    "        for i_relation in list(df_relation_one_table.index):\n",
    "    #         try: \n",
    "            # 建立sub主语实体，有可能已经在entity_node中，也有可能是外键\n",
    "            entity_ch = df_relation_one_table['sub'][i_relation]\n",
    "            if entity_ch in entity_node.keys(): # 本行数据确实有该节点\n",
    "                entity = entity_node[entity_ch]\n",
    "            elif entity_ch not in concept_ch_list_one_table: # 本行数据无该节点，则为外键\n",
    "                # entity_ch(eg:客户)去模式表里找该概念的数据库主键来源，根据主键和当前表table_name来找到该概念在当前表的外键列名，然后根据该外键列名找到外键具体值，去neo4j里查询该节点，\n",
    "#                 print(entity_ch)\n",
    "                primary_key_table = df_concept.loc[df_concept['concept_ch'] == entity_ch, 'table'].item()\n",
    "                primary_key_col = df_concept.loc[df_concept['concept_ch'] == entity_ch, 'col'].item()\n",
    "#                 print(primary_key_table)\n",
    "#                 print(primary_key_col)\n",
    "#                 print(entity_ch)\n",
    "#                 print(df_foreign['primary_table'] == primary_key_table)\n",
    "#                 print((df_foreign['primary_key'] == primary_key_col))\n",
    "#                 print((df_foreign['foreign_table'] == table_name))\n",
    "                foreign_key = df_foreign.loc[(df_foreign['primary_table'] == primary_key_table)\n",
    "                                  & (df_foreign['primary_key'] == primary_key_col)\n",
    "                                  & (df_foreign['foreign_table'] == table_name), 'foreign_key'].item()\n",
    "#                 print(foreign_key)\n",
    "                key = entity_ch\n",
    "                value = df_table[foreign_key][i_row]\n",
    "                if value != value: # 虽然该键是外键，但是该键依然可能是控制(玄学数据)\n",
    "                    continue\n",
    "                nodeBefore = graph.nodes.match(key, value=value).first()\n",
    "    #             assert nodeBefore is not None\n",
    "                if nodeBefore is None: # 这是测试数据的锅，否则的话永远不应该为None的\n",
    "                    continue\n",
    "                entity = nodeBefore\n",
    "    #             print(type(primary_key_table)) \n",
    "    #             primary_key_table, primary_key_col\n",
    "    #             continue\n",
    "            else: # 本行数据的该节点value为空，所以没有该节点\n",
    "                continue\n",
    "            sub = entity\n",
    "\n",
    "            # 建立obj宾语实体，这二三十航代码都是抄的上面的，只要把首末行的sub改成obj就可以了\n",
    "            entity_ch = df_relation_one_table['obj'][i_relation]\n",
    "            if entity_ch in entity_node.keys(): # 本行数据确实有该节点\n",
    "                entity = entity_node[entity_ch]\n",
    "            elif entity_ch not in concept_ch_list_one_table: # 本行数据无该节点，则为外键\n",
    "                # 根据entity_ch(eg:客户)去模式表里找该概念的数据库主键来源，根据主键和当前表table_name来找到该概念在当前表的外键列名，然后根据该外键列名找到外键具体值，去neo4j里查询该节点，\n",
    "#                 print(entity_ch)\n",
    "                primary_key_table = df_concept.loc[df_concept['concept_ch'] == entity_ch, 'table'].item()\n",
    "                primary_key_col = df_concept.loc[df_concept['concept_ch'] == entity_ch, 'col'].item()\n",
    "#                 print(primary_key_table)\n",
    "#                 print(primary_key_col)\n",
    "#                 print(entity_ch)\n",
    "#                 print(df_foreign['primary_table'] == primary_key_table)\n",
    "#                 print((df_foreign['primary_key'] == primary_key_col))\n",
    "#                 print((df_foreign['foreign_table'] == table_name))\n",
    "#                 print(\"-\"*10)\n",
    "#                 print(df_foreign.loc[(df_foreign['primary_table'] == primary_key_table)\n",
    "#                                   & (df_foreign['primary_key'] == primary_key_col)\n",
    "#                                   & (df_foreign['foreign_table'] == table_name), 'foreign_key'])\n",
    "#                 print(\"-\"*10)\n",
    "                foreign_key = df_foreign.loc[(df_foreign['primary_table'] == primary_key_table)\n",
    "                                  & (df_foreign['primary_key'] == primary_key_col)\n",
    "                                  & (df_foreign['foreign_table'] == table_name), 'foreign_key'].item()\n",
    "#                 print(foreign_key)\n",
    "                key = entity_ch\n",
    "                value = df_table[foreign_key][i_row]\n",
    "                if value != value: # 虽然该键是外键，但是该键依然可能是空值(玄学数据)\n",
    "                    continue\n",
    "                nodeBefore = graph.nodes.match(key, value=value).first()\n",
    "    #             assert nodeBefore is not None\n",
    "                if nodeBefore is None: # 测试数据的锅，否则的话永远不应该为None的\n",
    "                    continue            \n",
    "                entity = nodeBefore\n",
    "    #             print(type(primary_key_table))\n",
    "    #             primary_key_table, primary_key_col\n",
    "    #             continue\n",
    "            else: # 本行数据的该节点value为空，所以没有该节点\n",
    "                continue\n",
    "            obj = entity\n",
    "\n",
    "            # 建立主宾实体间的关系\n",
    "            predicate = df_relation_one_table['predicate'][i_relation]\n",
    "            aRelation = Relationship(sub, predicate, obj)\n",
    "            aRelation['id_relation'] = df_relation_one_table['id'][i_relation]\n",
    "            # 为关系增加属性\n",
    "            assert len(df_relation_one_table['prop_ch'][i_relation]) == len(df_relation_one_table['prop_col'][i_relation]) \\\n",
    "                , \"prop_ch=%s, prop_col=%s. They have different length.\"%(str(df_relation_one_table['prop_ch'][i_relation]), str(df_relation_one_table['prop_col'][i_relation]))\n",
    "            prop_num = len(df_relation_one_table['prop_ch'][i_relation])\n",
    "            for i_prop in range(0,prop_num):\n",
    "                prop_key = df_relation_one_table['prop_col'][i_relation][i_prop]\n",
    "                prop_key_ch = df_relation_one_table['prop_ch'][i_relation][i_prop]\n",
    "                prop_value = df_table[prop_key][i_row]\n",
    "                if prop_value == prop_value:\n",
    "                    aRelation[prop_key_ch] = change2float(prop_value)\n",
    "                else:\n",
    "                    aRelation[prop_key_ch] = ''\n",
    "\n",
    "            graph.create(aRelation)\n",
    "    #         except KeyError: # 因为某些节点可能因为值为空所以没有该节点，所以在entity_node字典中没有该节点\n",
    "    #             pass\n",
    "    #         print(entity_name)"
   ]
  },
  {
   "cell_type": "code",
   "execution_count": null,
   "metadata": {},
   "outputs": [],
   "source": []
  }
 ],
 "metadata": {
  "kernelspec": {
   "display_name": "Python 3",
   "language": "python",
   "name": "python3"
  },
  "language_info": {
   "codemirror_mode": {
    "name": "ipython",
    "version": 3
   },
   "file_extension": ".py",
   "mimetype": "text/x-python",
   "name": "python",
   "nbconvert_exporter": "python",
   "pygments_lexer": "ipython3",
   "version": "3.7.0"
  },
  "varInspector": {
   "cols": {
    "lenName": 16,
    "lenType": 16,
    "lenVar": 40
   },
   "kernels_config": {
    "python": {
     "delete_cmd_postfix": "",
     "delete_cmd_prefix": "del ",
     "library": "var_list.py",
     "varRefreshCmd": "print(var_dic_list())"
    },
    "r": {
     "delete_cmd_postfix": ") ",
     "delete_cmd_prefix": "rm(",
     "library": "var_list.r",
     "varRefreshCmd": "cat(var_dic_list()) "
    }
   },
   "types_to_exclude": [
    "module",
    "function",
    "builtin_function_or_method",
    "instance",
    "_Feature"
   ],
   "window_display": true
  }
 },
 "nbformat": 4,
 "nbformat_minor": 2
}
