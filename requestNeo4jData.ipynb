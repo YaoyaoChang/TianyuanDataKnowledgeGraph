{
 "cells": [
  {
   "cell_type": "code",
   "execution_count": 2,
   "metadata": {
    "ExecuteTime": {
     "end_time": "2019-08-30T01:29:11.753885Z",
     "start_time": "2019-08-30T01:29:11.666108Z"
    }
   },
   "outputs": [],
   "source": [
    "import requests\n",
    "import json"
   ]
  },
  {
   "cell_type": "code",
   "execution_count": 3,
   "metadata": {
    "ExecuteTime": {
     "end_time": "2019-08-30T01:29:12.198684Z",
     "start_time": "2019-08-30T01:29:12.195693Z"
    }
   },
   "outputs": [],
   "source": [
    "option_userName = 'neo4j'\n",
    "option_passWord = '123123'"
   ]
  },
  {
   "cell_type": "code",
   "execution_count": 7,
   "metadata": {
    "ExecuteTime": {
     "end_time": "2019-08-14T02:03:32.783474Z",
     "start_time": "2019-08-14T02:03:32.778512Z"
    }
   },
   "outputs": [],
   "source": [
    "def http_post_test():\n",
    "    URL = \"http://%s:%s@localhost:7474/db/data/transaction/commit\"%(option_userName, option_passWord)\n",
    "#     cypher = \"match(n) return n limit 3\"\n",
    "    cypher = \"match p1=(n:现场服务人员{value:'jiaqiankun'})--(m) \\\n",
    "match p2=(m)--(p) \\\n",
    "match p3=(p)--(q) \\\n",
    "return *,(q)--(q) \\\n",
    "limit %d\"%limit_num\n",
    " \n",
    "    data = {\n",
    "        \"statements\": [\n",
    "            {\n",
    "                \"statement\": cypher,\n",
    "#                 \"parameters\": {\n",
    "#                     \"decisionId\": \"1\",\n",
    "#                     \"criterionId\": \"1\"\n",
    "#                 },\n",
    "                \"resultDataContents\" : [ \"row\", \"graph\" ]\n",
    "            }\n",
    "        ]\n",
    "    }\n",
    "    \n",
    "    input = str(json.dumps(data, separators=(',', ':')))\n",
    " \n",
    "    headers = {\n",
    "#         \"Authorization\": \"Basic bmVvNGpAMTIzMTIz\",\n",
    "        \"Content-Type\": \"application/json; charset=utf-8\"\n",
    "    }\n",
    " \n",
    "    r = requests.post(url=URL, data=input, headers = headers)\n",
    "#     print(res) \n",
    "    res = r.text\n",
    "    return res"
   ]
  },
  {
   "cell_type": "code",
   "execution_count": 9,
   "metadata": {
    "ExecuteTime": {
     "end_time": "2019-08-14T02:03:48.505319Z",
     "start_time": "2019-08-14T02:03:45.898502Z"
    }
   },
   "outputs": [
    {
     "data": {
      "text/plain": [
       "'{\"results\":[{\"columns\":[\"m\",\"n\",\"p\",\"p1\",\"p2\",\"p3\",\"q\",\"(q)--(q)\"],\"data\":[{\"row\":[{\"display_name\":\"服务数量:0\",\"type\":\"服务数量\",\"value\":0.0},{\"姓名\":\"贾乾坤 \",\"人号\":\"TSP20190104155435063\",\"type\":\"现场服务人员\",\"display_name\":\"现场服务人员:贾乾坤 \",\"value\":\"jiaqiankun\",\"类型\":\"现场技师\"},{\"姓名\":\"贾乾坤 \",\"人号\":\"TSP20190104155435063\",\"type\":\"现场服务人员\",\"display_name\":\"现场服务人员:贾乾坤 \",\"value\":\"jiaqiankun\",\"类型\":\"现场技师\"},[{\"姓名\":\"贾乾坤 \",\"人号\":\"TSP20190104155435063\",\"type\":\"现场服务人员\",\"display_name\":\"现场服务人员:贾乾坤 \",\"value\":\"jiaqiankun\",\"类型\":\"现场技师\"},{\"id_relation\":\"30\"},{\"display_name\":\"服务数量:0\",\"type\":\"服务数量\",\"value\":0.0}],[{\"display_name\":\"服务数量:0\",\"type\":\"服务数量\",\"value\":0.0},{\"id_relation\":\"30\"},{\"姓名\":\"贾乾坤 \",\"人号\":\"TSP20190104155435063\",\"type\":\"现场服务人员\",\"display_name\":\"现场服务人员:贾乾坤 \",\"value\":\"jiaqiankun\",\"类型\":\"现场技师\"}],[{\"姓名\":\"贾乾坤 \",\"人号\":\"TSP20190104155435063\",\"type\":\"现场服务人员\",\"display_name\":\"现场服务人员:贾乾坤 \",\"value\":\"jiaqiankun\",\"类型\":\"现场技师\"},{\"id_relation\":\"30\"},{\"display_name\":\"服务数量:0\",\"type\":\"服务数量\",\"value\":0.0}],{\"display_name\":\"服务数量:0\",\"type\":\"服务数量\",\"value\":0.0},[]],\"meta\":[{\"id\":324990,\"type\":\"node\",\"deleted\":false},{\"id\":325024,\"type\":\"node\",\"deleted\":false},{\"id\":325024,\"type\":\"node\",\"deleted\":false},[{\"id\":325024,\"type\":\"node\",\"deleted\":false},{\"id\":354570,\"type\":\"relationship\",\"deleted\":false},{\"id\":324990,\"type\":\"node\",\"deleted\":false}],[{\"id\":324990,\"type\":\"node\",\"deleted\":false},{\"id\":354570,\"type\":\"relationship\",\"deleted\":false},{\"id\":325024,\"type\":\"node\",\"deleted\":false}],[{\"id\":325024,\"type\":\"node\",\"deleted\":false},{\"id\":354570,\"type\":\"relationship\",\"deleted\":false},{\"id\":324990,\"type\":\"node\",\"deleted\":false}],{\"id\":324990,\"type\":\"node\",\"deleted\":false}],\"graph\":{\"nodes\":[{\"id\":\"325024\",\"labels\":[\"实例节点\",\"现场服务人员\"],\"properties\":{\"姓名\":\"贾乾坤 \",\"人号\":\"TSP20190104155435063\",\"type\":\"现场服务人员\",\"display_name\":\"现场服务人员:贾乾坤 \",\"value\":\"jiaqiankun\",\"类型\":\"现场技师\"}},{\"id\":\"324990\",\"labels\":[\"服务数量\"],\"properties\":{\"display_name\":\"服务数量:0\",\"type\":\"服务数量\",\"value\":0.0}}],\"relationships\":[{\"id\":\"354570\",\"type\":\"考核\",\"startNode\":\"325024\",\"endNode\":\"324990\",\"properties\":{\"id_relation\":\"30\"}}]}},{\"row\":[{\"display_name\":\"服务数量:0\",\"type\":\"服务数量\",\"value\":0.0},{\"姓名\":\"贾乾坤 \",\"人号\":\"TSP20190104155435063\",\"type\":\"现场服务人员\",\"display_name\":\"现场服务人员:贾乾坤 \",\"value\":\"jiaqiankun\",\"类型\":\"现场技师\"},{\"姓名\":\"贾乾坤 \",\"人号\":\"TSP20190104155435063\",\"type\":\"现场服务人员\",\"display_name\":\"现场服务人员:贾乾坤 \",\"value\":\"jiaqiankun\",\"类型\":\"现场技师\"},[{\"姓名\":\"贾乾坤 \",\"人号\":\"TSP20190104155435063\",\"type\":\"现场服务人员\",\"display_name\":\"现场服务人员:贾乾坤 \",\"value\":\"jiaqiankun\",\"类型\":\"现场技师\"},{\"id_relation\":\"30\"},{\"display_name\":\"服务数量:0\",\"type\":\"服务数量\",\"value\":0.0}],[{\"display_name\":\"服务数量:0\",\"type\":\"服务数量\",\"value\":0.0},{\"id_relation\":\"30\"},{\"姓名\":\"贾乾坤 \",\"人号\":\"TSP20190104155435063\",\"type\":\"现场服务人员\",\"display_name\":\"现场服务人员:贾乾坤 \",\"value\":\"jiaqiankun\",\"类型\":\"现场技师\"}],[{\"姓名\":\"贾乾坤 \",\"人号\":\"TSP20190104155435063\",\"type\":\"现场服务人员\",\"display_name\":\"现场服务人员:贾乾坤 \",\"value\":\"jiaqiankun\",\"类型\":\"现场技师\"},{\"id_relation\":\"28\"},{\"display_name\":\"服务区:石家庄东区\",\"type\":\"服务区\",\"value\":\"石家庄东区\"}],{\"display_name\":\"服务区:石家庄东区\",\"type\":\"服务区\",\"value\":\"石家庄东区\"},[]],\"meta\":[{\"id\":324990,\"type\":\"node\",\"deleted\":false},{\"id\":325024,\"type\":\"node\",\"deleted\":false},{\"id\":325024,\"type\":\"node\",\"deleted\":false},[{\"id\":325024,\"type\":\"node\",\"deleted\":false},{\"id\":354570,\"type\":\"relationship\",\"deleted\":false},{\"id\":324990,\"type\":\"node\",\"deleted\":false}],[{\"id\":324990,\"type\":\"node\",\"deleted\":false},{\"id\":354570,\"type\":\"relationship\",\"deleted\":false},{\"id\":325024,\"type\":\"node\",\"deleted\":false}],[{\"id\":325024,\"type\":\"node\",\"deleted\":false},{\"id\":354658,\"type\":\"relationship\",\"deleted\":false},{\"id\":324948,\"type\":\"node\",\"deleted\":false}],{\"id\":324948,\"type\":\"node\",\"deleted\":false}],\"graph\":{\"nodes\":[{\"id\":\"324948\",\"labels\":[\"实例节点\",\"服务区\"],\"properties\":{\"display_name\":\"服务区:石家庄东区\",\"type\":\"服务区\",\"value\":\"石家庄东区\"}},{\"id\":\"325024\",\"labels\":[\"实例节点\",\"现场服务人员\"],\"properties\":{\"姓名\":\"贾乾坤 \",\"人号\":\"TSP20190104155435063\",\"type\":\"现场服务人员\",\"display_name\":\"现场服务人员:贾乾坤 \",\"value\":\"jiaqiankun\",\"类型\":\"现场技师\"}},{\"id\":\"324990\",\"labels\":[\"服务数量\"],\"properties\":{\"display_name\":\"服务数量:0\",\"type\":\"服务数量\",\"value\":0.0}}],\"relationships\":[{\"id\":\"354658\",\"type\":\"隶属于\",\"startNode\":\"325024\",\"endNode\":\"324948\",\"properties\":{\"id_relation\":\"28\"}},{\"id\":\"354570\",\"type\":\"考核\",\"startNode\":\"325024\",\"endNode\":\"324990\",\"properties\":{\"id_relation\":\"30\"}}]}},{\"row\":[{\"display_name\":\"服务区:石家庄东区\",\"type\":\"服务区\",\"value\":\"石家庄东区\"},{\"姓名\":\"贾乾坤 \",\"人号\":\"TSP20190104155435063\",\"type\":\"现场服务人员\",\"display_name\":\"现场服务人员:贾乾坤 \",\"value\":\"jiaqiankun\",\"类型\":\"现场技师\"},{\"姓名\":\"郝军 \",\"人号\":\"TSP20190104155435063\",\"display_name\":\"现场服务人员:郝军 \",\"type\":\"现场服务人员\",\"value\":\"haojun\",\"类型\":\"现场技师\"},[{\"姓名\":\"贾乾坤 \",\"人号\":\"TSP20190104155435063\",\"type\":\"现场服务人员\",\"display_name\":\"现场服务人员:贾乾坤 \",\"value\":\"jiaqiankun\",\"类型\":\"现场技师\"},{\"id_relation\":\"28\"},{\"display_name\":\"服务区:石家庄东区\",\"type\":\"服务区\",\"value\":\"石家庄东区\"}],[{\"display_name\":\"服务区:石家庄东区\",\"type\":\"服务区\",\"value\":\"石家庄东区\"},{\"id_relation\":\"28\"},{\"姓名\":\"郝军 \",\"人号\":\"TSP20190104155435063\",\"display_name\":\"现场服务人员:郝军 \",\"type\":\"现场服务人员\",\"value\":\"haojun\",\"类型\":\"现场技师\"}],[{\"姓名\":\"郝军 \",\"人号\":\"TSP20190104155435063\",\"display_name\":\"现场服务人员:郝军 \",\"type\":\"现场服务人员\",\"value\":\"haojun\",\"类型\":\"现场技师\"},{\"id_relation\":\"42\"},{\"预约日期\":\"2019-05-10 00:00:00.000000\",\"派工状态\":\"已完成\",\"type\":\"服务派工\",\"display_name\":\"服务派工:TWD20190510092355367\",\"派工单编号\":\"TWD20190510092355367\",\"value\":\"CD3BB71487926F4880BD08DB04555459\"}],{\"预约日期\":\"2019-05-10 00:00:00.000000\",\"派工状态\":\"已完成\",\"type\":\"服务派工\",\"display_name\":\"服务派工:TWD20190510092355367\",\"派工单编号\":\"TWD20190510092355367\",\"value\":\"CD3BB71487926F4880BD08DB04555459\"},[]],\"meta\":[{\"id\":324948,\"type\":\"node\",\"deleted\":false},{\"id\":325024,\"type\":\"node\",\"deleted\":false},{\"id\":325026,\"type\":\"node\",\"deleted\":false},[{\"id\":325024,\"type\":\"node\",\"deleted\":false},{\"id\":354658,\"type\":\"relationship\",\"deleted\":false},{\"id\":324948,\"type\":\"node\",\"deleted\":false}],[{\"id\":324948,\"type\":\"node\",\"deleted\":false},{\"id\":354624,\"type\":\"relationship\",\"deleted\":false},{\"id\":325026,\"type\":\"node\",\"deleted\":false}],[{\"id\":325026,\"type\":\"node\",\"deleted\":false},{\"id\":354795,\"type\":\"relationship\",\"deleted\":false},{\"id\":325333,\"type\":\"node\",\"deleted\":false}],{\"id\":325333,\"type\":\"node\",\"deleted\":false}],\"graph\":{\"nodes\":[{\"id\":\"324948\",\"labels\":[\"实例节点\",\"服务区\"],\"properties\":{\"display_name\":\"服务区:石家庄东区\",\"type\":\"服务区\",\"value\":\"石家庄东区\"}},{\"id\":\"325333\",\"labels\":[\"实例节点\",\"服务派工\"],\"properties\":{\"预约日期\":\"2019-05-10 00:00:00.000000\",\"派工状态\":\"已完成\",\"type\":\"服务派工\",\"display_name\":\"服务派工:TWD20190510092355367\",\"派工单编号\":\"TWD20190510092355367\",\"value\":\"CD3BB71487926F4880BD08DB04555459\"}},{\"id\":\"325024\",\"labels\":[\"实例节点\",\"现场服务人员\"],\"properties\":{\"姓名\":\"贾乾坤 \",\"人号\":\"TSP20190104155435063\",\"type\":\"现场服务人员\",\"display_name\":\"现场服务人员:贾乾坤 \",\"value\":\"jiaqiankun\",\"类型\":\"现场技师\"}},{\"id\":\"325026\",\"labels\":[\"实例节点\",\"现场服务人员\"],\"properties\":{\"姓名\":\"郝军 \",\"人号\":\"TSP20190104155435063\",\"display_name\":\"现场服务人员:郝军 \",\"type\":\"现场服务人员\",\"value\":\"haojun\",\"类型\":\"现场技师\"}}],\"relationships\":[{\"id\":\"354624\",\"type\":\"隶属于\",\"startNode\":\"325026\",\"endNode\":\"324948\",\"properties\":{\"id_relation\":\"28\"}},{\"id\":\"354658\",\"type\":\"隶属于\",\"startNode\":\"325024\",\"endNode\":\"324948\",\"properties\":{\"id_relation\":\"28\"}},{\"id\":\"354795\",\"type\":\"指派\",\"startNode\":\"325333\",\"endNode\":\"325026\",\"properties\":{\"id_relation\":\"42\"}}]}},{\"row\":[{\"display_name\":\"服务区:石家庄东区\",\"type\":\"服务区\",\"value\":\"石家庄东区\"},{\"姓名\":\"贾乾坤 \",\"人号\":\"TSP20190104155435063\",\"type\":\"现场服务人员\",\"display_name\":\"现场服务人员:贾乾坤 \",\"value\":\"jiaqiankun\",\"类型\":\"现场技师\"},{\"姓名\":\"郝军 \",\"人号\":\"TSP20190104155435063\",\"display_name\":\"现场服务人员:郝军 \",\"type\":\"现场服务人员\",\"value\":\"haojun\",\"类型\":\"现场技师\"},[{\"姓名\":\"贾乾坤 \",\"人号\":\"TSP20190104155435063\",\"type\":\"现场服务人员\",\"display_name\":\"现场服务人员:贾乾坤 \",\"value\":\"jiaqiankun\",\"类型\":\"现场技师\"},{\"id_relation\":\"28\"},{\"display_name\":\"服务区:石家庄东区\",\"type\":\"服务区\",\"value\":\"石家庄东区\"}],[{\"display_name\":\"服务区:石家庄东区\",\"type\":\"服务区\",\"value\":\"石家庄东区\"},{\"id_relation\":\"28\"},{\"姓名\":\"郝军 \",\"人号\":\"TSP20190104155435063\",\"display_name\":\"现场服务人员:郝军 \",\"type\":\"现场服务人员\",\"value\":\"haojun\",\"类型\":\"现场技师\"}],[{\"姓名\":\"郝军 \",\"人号\":\"TSP20190104155435063\",\"display_name\":\"现场服务人员:郝军 \",\"type\":\"现场服务人员\",\"value\":\"haojun\",\"类型\":\"现场技师\"},{\"id_relation\":\"42\"},{\"预约日期\":\"2019-05-07 00:00:00.000000\",\"派工状态\":\"已完成\",\"type\":\"服务派工\",\"display_name\":\"服务派工:TWD20190507101410113\",\"派工单编号\":\"TWD20190507101410113\",\"value\":\"2D775B7B72E3554BA2B795AE46620025\"}],{\"预约日期\":\"2019-05-07 00:00:00.000000\",\"派工状态\":\"已完成\",\"type\":\"服务派工\",\"display_name\":\"服务派工:TWD20190507101410113\",\"派工单编号\":\"TWD20190507101410113\",\"value\":\"2D775B7B72E3554BA2B795AE46620025\"},[]],\"meta\":[{\"id\":324948,\"type\":\"node\",\"deleted\":false},{\"id\":325024,\"type\":\"node\",\"deleted\":false},{\"id\":325026,\"type\":\"node\",\"deleted\":false},[{\"id\":325024,\"type\":\"node\",\"deleted\":false},{\"id\":354658,\"type\":\"relationship\",\"deleted\":false},{\"id\":324948,\"type\":\"node\",\"deleted\":false}],[{\"id\":324948,\"type\":\"node\",\"deleted\":false},{\"id\":354624,\"type\":\"relationship\",\"deleted\":false},{\"id\":325026,\"type\":\"node\",\"deleted\":false}],[{\"id\":325026,\"type\":\"node\",\"deleted\":false},{\"id\":354811,\"type\":\"relationship\",\"deleted\":false},{\"id\":325303,\"type\":\"node\",\"deleted\":false}],{\"id\":325303,\"type\":\"node\",\"deleted\":false}],\"graph\":{\"nodes\":[{\"id\":\"324948\",\"labels\":[\"实例节点\",\"服务区\"],\"properties\":{\"display_name\":\"服务区:石家庄东区\",\"type\":\"服务区\",\"value\":\"石家庄东区\"}},{\"id\":\"325303\",\"labels\":[\"实例节点\",\"服务派工\"],\"properties\":{\"预约日期\":\"2019-05-07 00:00:00.000000\",\"派工状态\":\"已完成\",\"type\":\"服务派工\",\"display_name\":\"服务派工:TWD20190507101410113\",\"派工单编号\":\"TWD20190507101410113\",\"value\":\"2D775B7B72E3554BA2B795AE46620025\"}},{\"id\":\"325024\",\"labels\":[\"实例节点\",\"现场服务人员\"],\"properties\":{\"姓名\":\"贾乾坤 \",\"人号\":\"TSP20190104155435063\",\"type\":\"现场服务人员\",\"display_name\":\"现场服务人员:贾乾坤 \",\"value\":\"jiaqiankun\",\"类型\":\"现场技师\"}},{\"id\":\"325026\",\"labels\":[\"实例节点\",\"现场服务人员\"],\"properties\":{\"姓名\":\"郝军 \",\"人号\":\"TSP20190104155435063\",\"display_name\":\"现场服务人员:郝军 \",\"type\":\"现场服务人员\",\"value\":\"haojun\",\"类型\":\"现场技师\"}}],\"relationships\":[{\"id\":\"354624\",\"type\":\"隶属于\",\"startNode\":\"325026\",\"endNode\":\"324948\",\"properties\":{\"id_relation\":\"28\"}},{\"id\":\"354658\",\"type\":\"隶属于\",\"startNode\":\"325024\",\"endNode\":\"324948\",\"properties\":{\"id_relation\":\"28\"}},{\"id\":\"354811\",\"type\":\"指派\",\"startNode\":\"325303\",\"endNode\":\"325026\",\"properties\":{\"id_relation\":\"42\"}}]}},{\"row\":[{\"display_name\":\"服务区:石家庄东区\",\"type\":\"服务区\",\"value\":\"石家庄东区\"},{\"姓名\":\"贾乾坤 \",\"人号\":\"TSP20190104155435063\",\"type\":\"现场服务人员\",\"display_name\":\"现场服务人员:贾乾坤 \",\"value\":\"jiaqiankun\",\"类型\":\"现场技师\"},{\"姓名\":\"郝军 \",\"人号\":\"TSP20190104155435063\",\"display_name\":\"现场服务人员:郝军 \",\"type\":\"现场服务人员\",\"value\":\"haojun\",\"类型\":\"现场技师\"},[{\"姓名\":\"贾乾坤 \",\"人号\":\"TSP20190104155435063\",\"type\":\"现场服务人员\",\"display_name\":\"现场服务人员:贾乾坤 \",\"value\":\"jiaqiankun\",\"类型\":\"现场技师\"},{\"id_relation\":\"28\"},{\"display_name\":\"服务区:石家庄东区\",\"type\":\"服务区\",\"value\":\"石家庄东区\"}],[{\"display_name\":\"服务区:石家庄东区\",\"type\":\"服务区\",\"value\":\"石家庄东区\"},{\"id_relation\":\"28\"},{\"姓名\":\"郝军 \",\"人号\":\"TSP20190104155435063\",\"display_name\":\"现场服务人员:郝军 \",\"type\":\"现场服务人员\",\"value\":\"haojun\",\"类型\":\"现场技师\"}],[{\"姓名\":\"郝军 \",\"人号\":\"TSP20190104155435063\",\"display_name\":\"现场服务人员:郝军 \",\"type\":\"现场服务人员\",\"value\":\"haojun\",\"类型\":\"现场技师\"},{\"id_relation\":\"42\"},{\"预约日期\":\"2019-05-07 00:00:00.000000\",\"派工状态\":\"已完成\",\"type\":\"服务派工\",\"display_name\":\"服务派工:TWD20190507101136450\",\"派工单编号\":\"TWD20190507101136450\",\"value\":\"4C0D8D8CA787FC4AAD783680ED0651CB\"}],{\"预约日期\":\"2019-05-07 00:00:00.000000\",\"派工状态\":\"已完成\",\"type\":\"服务派工\",\"display_name\":\"服务派工:TWD20190507101136450\",\"派工单编号\":\"TWD20190507101136450\",\"value\":\"4C0D8D8CA787FC4AAD783680ED0651CB\"},[]],\"meta\":[{\"id\":324948,\"type\":\"node\",\"deleted\":false},{\"id\":325024,\"type\":\"node\",\"deleted\":false},{\"id\":325026,\"type\":\"node\",\"deleted\":false},[{\"id\":325024,\"type\":\"node\",\"deleted\":false},{\"id\":354658,\"type\":\"relationship\",\"deleted\":false},{\"id\":324948,\"type\":\"node\",\"deleted\":false}],[{\"id\":324948,\"type\":\"node\",\"deleted\":false},{\"id\":354624,\"type\":\"relationship\",\"deleted\":false},{\"id\":325026,\"type\":\"node\",\"deleted\":false}],[{\"id\":325026,\"type\":\"node\",\"deleted\":false},{\"id\":354793,\"type\":\"relationship\",\"deleted\":false},{\"id\":325271,\"type\":\"node\",\"deleted\":false}],{\"id\":325271,\"type\":\"node\",\"deleted\":false}],\"graph\":{\"nodes\":[{\"id\":\"324948\",\"labels\":[\"实例节点\",\"服务区\"],\"properties\":{\"display_name\":\"服务区:石家庄东区\",\"type\":\"服务区\",\"value\":\"石家庄东区\"}},{\"id\":\"325271\",\"labels\":[\"实例节点\",\"服务派工\"],\"properties\":{\"预约日期\":\"2019-05-07 00:00:00.000000\",\"派工状态\":\"已完成\",\"type\":\"服务派工\",\"display_name\":\"服务派工:TWD20190507101136450\",\"派工单编号\":\"TWD20190507101136450\",\"value\":\"4C0D8D8CA787FC4AAD783680ED0651CB\"}},{\"id\":\"325024\",\"labels\":[\"实例节点\",\"现场服务人员\"],\"properties\":{\"姓名\":\"贾乾坤 \",\"人号\":\"TSP20190104155435063\",\"type\":\"现场服务人员\",\"display_name\":\"现场服务人员:贾乾坤 \",\"value\":\"jiaqiankun\",\"类型\":\"现场技师\"}},{\"id\":\"325026\",\"labels\":[\"实例节点\",\"现场服务人员\"],\"properties\":{\"姓名\":\"郝军 \",\"人号\":\"TSP20190104155435063\",\"display_name\":\"现场服务人员:郝军 \",\"type\":\"现场服务人员\",\"value\":\"haojun\",\"类型\":\"现场技师\"}}],\"relationships\":[{\"id\":\"354624\",\"type\":\"隶属于\",\"startNode\":\"325026\",\"endNode\":\"324948\",\"properties\":{\"id_relation\":\"28\"}},{\"id\":\"354658\",\"type\":\"隶属于\",\"startNode\":\"325024\",\"endNode\":\"324948\",\"properties\":{\"id_relation\":\"28\"}},{\"id\":\"354793\",\"type\":\"指派\",\"startNode\":\"325271\",\"endNode\":\"325026\",\"properties\":{\"id_relation\":\"42\"}}]}}]}],\"errors\":[]}'"
      ]
     },
     "execution_count": 9,
     "metadata": {},
     "output_type": "execute_result"
    }
   ],
   "source": [
    "limit_num = 5\n",
    "\n",
    "res = http_post_test()\n",
    "res"
   ]
  },
  {
   "cell_type": "code",
   "execution_count": 4,
   "metadata": {
    "ExecuteTime": {
     "end_time": "2019-08-11T22:21:25.019241Z",
     "start_time": "2019-08-11T22:21:21.830259Z"
    }
   },
   "outputs": [
    {
     "name": "stdout",
     "output_type": "stream",
     "text": [
      "http_post finished\n"
     ]
    }
   ],
   "source": [
    "print(\"http_post finished\")\n",
    "f = open(\"./result/jiaqiankun_%d.txt\"%limit_num, 'w')\n",
    "f.write(res)\n",
    "f.close()\n",
    "print(\"write file finished\")"
   ]
  },
  {
   "cell_type": "code",
   "execution_count": 6,
   "metadata": {
    "ExecuteTime": {
     "end_time": "2019-08-30T01:30:22.003897Z",
     "start_time": "2019-08-30T01:30:21.999908Z"
    }
   },
   "outputs": [],
   "source": [
    "option_passWord = '123456'"
   ]
  },
  {
   "cell_type": "code",
   "execution_count": 8,
   "metadata": {
    "ExecuteTime": {
     "end_time": "2019-08-30T01:30:34.156726Z",
     "start_time": "2019-08-30T01:30:34.108815Z"
    }
   },
   "outputs": [
    {
     "data": {
      "text/plain": [
       "'{\"results\":[{\"columns\":[\"m\",\"n\",\"k\"],\"data\":[{\"row\":[{\"col\":\"diagnosisaction\",\"properties_col_ch\":\"[]\",\"内部属性对应数据库属性\":\"nan\",\"properties_col\":\"[]\",\"逻辑代码连接\":\"nan\",\"domain_name\":\"装修手册\",\"逻辑代码所需数据库表\":\"nan\",\"内部属性\":\"nan\",\"compound_table\":\"\",\"模式图中概念\":\"诊断操作\",\"所属域\":\"故障诊断\",\"table\":\"manual_fc\",\"数据库表/属性\":\"manual_fc.diagnosisaction\",\"类型\":\"直接\",\"显示名\":\"unique_id\"},{\"col\":\"cause\",\"properties_col_ch\":\"[]\",\"内部属性对应数据库属性\":\"nan\",\"properties_col\":\"[]\",\"逻辑代码连接\":\"nan\",\"domain_name\":\"装修手册\",\"逻辑代码所需数据库表\":\"nan\",\"内部属性\":\"nan\",\"compound_table\":\"\",\"模式图中概念\":\"故障起因\",\"所属域\":\"故障诊断\",\"table\":\"manual_fc\",\"数据库表/属性\":\"manual_fc.cause\",\"类型\":\"直接\",\"显示名\":\"unique_id\"},{\"col\":\"faultcode\",\"properties_col_ch\":\"[\\'故障名称\\', \\'报警级别\\']\",\"内部属性对应数据库属性\":\"faultname,alertlevel\",\"properties_col\":\"[\\'faultname\\', \\'alertlevel\\']\",\"逻辑代码连接\":\"nan\",\"domain_name\":\"装修手册\",\"逻辑代码所需数据库表\":\"nan\",\"内部属性\":\"故障名称,报警级别\",\"compound_table\":\"\",\"模式图中概念\":\"故障\",\"所属域\":\"故障诊断\",\"table\":\"manual_fc\",\"数据库表/属性\":\"manual_fc.faultcode\",\"显示名\":\"故障名称\",\"类型\":\"直接\"}],\"meta\":[{\"id\":121846,\"type\":\"node\",\"deleted\":false},{\"id\":121774,\"type\":\"node\",\"deleted\":false},{\"id\":120656,\"type\":\"node\",\"deleted\":false}],\"graph\":{\"nodes\":[{\"id\":\"120656\",\"labels\":[\"概念节点\",\"故障\",\"装修手册\"],\"properties\":{\"col\":\"faultcode\",\"properties_col_ch\":\"[\\'故障名称\\', \\'报警级别\\']\",\"内部属性对应数据库属性\":\"faultname,alertlevel\",\"properties_col\":\"[\\'faultname\\', \\'alertlevel\\']\",\"逻辑代码连接\":\"nan\",\"domain_name\":\"装修手册\",\"逻辑代码所需数据库表\":\"nan\",\"内部属性\":\"故障名称,报警级别\",\"compound_table\":\"\",\"模式图中概念\":\"故障\",\"所属域\":\"故障诊断\",\"table\":\"manual_fc\",\"数据库表/属性\":\"manual_fc.faultcode\",\"显示名\":\"故障名称\",\"类型\":\"直接\"}},{\"id\":\"121846\",\"labels\":[\"概念节点\",\"装修手册\",\"诊断操作\"],\"properties\":{\"col\":\"diagnosisaction\",\"properties_col_ch\":\"[]\",\"内部属性对应数据库属性\":\"nan\",\"properties_col\":\"[]\",\"逻辑代码连接\":\"nan\",\"domain_name\":\"装修手册\",\"逻辑代码所需数据库表\":\"nan\",\"内部属性\":\"nan\",\"compound_table\":\"\",\"模式图中概念\":\"诊断操作\",\"所属域\":\"故障诊断\",\"table\":\"manual_fc\",\"数据库表/属性\":\"manual_fc.diagnosisaction\",\"类型\":\"直接\",\"显示名\":\"unique_id\"}},{\"id\":\"121774\",\"labels\":[\"概念节点\",\"装修手册\",\"故障起因\"],\"properties\":{\"col\":\"cause\",\"properties_col_ch\":\"[]\",\"内部属性对应数据库属性\":\"nan\",\"properties_col\":\"[]\",\"逻辑代码连接\":\"nan\",\"domain_name\":\"装修手册\",\"逻辑代码所需数据库表\":\"nan\",\"内部属性\":\"nan\",\"compound_table\":\"\",\"模式图中概念\":\"故障起因\",\"所属域\":\"故障诊断\",\"table\":\"manual_fc\",\"数据库表/属性\":\"manual_fc.cause\",\"类型\":\"直接\",\"显示名\":\"unique_id\"}}],\"relationships\":[]}}]}],\"errors\":[]}'"
      ]
     },
     "execution_count": 8,
     "metadata": {},
     "output_type": "execute_result"
    }
   ],
   "source": [
    "\n",
    "URL = \"http://%s:%s@101.6.15.212:7474/db/data/transaction/commit\"%(option_userName, option_passWord)\n",
    "#     cypher = \"match(n) return n limit 3\"\n",
    "cypher = \"match(n:故障起因:概念节点)--(m:概念节点:诊断操作)--(k:概念节点:故障) return m,n,k\"\n",
    "\n",
    "data = {\n",
    "    \"statements\": [\n",
    "        {\n",
    "            \"statement\": cypher,\n",
    "#                 \"parameters\": {\n",
    "#                     \"decisionId\": \"1\",\n",
    "#                     \"criterionId\": \"1\"\n",
    "#                 },\n",
    "            \"resultDataContents\" : [ \"row\", \"graph\" ]\n",
    "        }\n",
    "    ]\n",
    "}\n",
    "\n",
    "input = str(json.dumps(data, separators=(',', ':')))\n",
    "\n",
    "headers = {\n",
    "#         \"Authorization\": \"Basic bmVvNGpAMTIzMTIz\",\n",
    "    \"Content-Type\": \"application/json; charset=utf-8\"\n",
    "}\n",
    "\n",
    "r = requests.post(url=URL, data=input, headers = headers)\n",
    "#     print(res) \n",
    "res = r.text\n",
    "res"
   ]
  },
  {
   "cell_type": "code",
   "execution_count": null,
   "metadata": {},
   "outputs": [],
   "source": []
  }
 ],
 "metadata": {
  "kernelspec": {
   "display_name": "Python 3",
   "language": "python",
   "name": "python3"
  },
  "language_info": {
   "codemirror_mode": {
    "name": "ipython",
    "version": 3
   },
   "file_extension": ".py",
   "mimetype": "text/x-python",
   "name": "python",
   "nbconvert_exporter": "python",
   "pygments_lexer": "ipython3",
   "version": "3.7.0"
  },
  "varInspector": {
   "cols": {
    "lenName": 16,
    "lenType": 16,
    "lenVar": 40
   },
   "kernels_config": {
    "python": {
     "delete_cmd_postfix": "",
     "delete_cmd_prefix": "del ",
     "library": "var_list.py",
     "varRefreshCmd": "print(var_dic_list())"
    },
    "r": {
     "delete_cmd_postfix": ") ",
     "delete_cmd_prefix": "rm(",
     "library": "var_list.r",
     "varRefreshCmd": "cat(var_dic_list()) "
    }
   },
   "types_to_exclude": [
    "module",
    "function",
    "builtin_function_or_method",
    "instance",
    "_Feature"
   ],
   "window_display": true
  }
 },
 "nbformat": 4,
 "nbformat_minor": 2
}
