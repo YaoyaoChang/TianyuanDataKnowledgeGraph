{
 "cells": [
  {
   "cell_type": "code",
   "execution_count": 30,
   "metadata": {
    "ExecuteTime": {
     "end_time": "2019-07-25T12:57:34.065272Z",
     "start_time": "2019-07-25T12:57:34.061284Z"
    }
   },
   "outputs": [
    {
     "name": "stdout",
     "output_type": "stream",
     "text": [
      "match(n:挖掘机)\n",
      "where \n",
      "(n.工作小时数>4800 and n.工作小时数<5000) or \n",
      "(n.工作小时数>9800 and n.工作小时数<10000) or \n",
      "(n.工作小时数>14800 and n.工作小时数<15000) or \n",
      "(n.工作小时数>19800 and n.工作小时数<20000) or \n",
      "(n.工作小时数>24800 and n.工作小时数<25000) or \n",
      "(n.工作小时数>29800 and n.工作小时数<30000) or \n",
      "(n.工作小时数>34800 and n.工作小时数<35000) or \n",
      "(n.工作小时数>39800 and n.工作小时数<40000) \n",
      "return n\n",
      "limit 100\n",
      "\n"
     ]
    }
   ],
   "source": [
    "def findMachineNearMaintain(period = 500, advance=100, limit=100, maxHour = 40000):\n",
    "    s = \"\"\n",
    "    s += \"match(n:挖掘机)\\n\"\n",
    "    s += \"where \\n\"\n",
    "    hour = period\n",
    "    while hour < maxHour:\n",
    "        s += (\"(n.工作小时数>%d and n.工作小时数<%d) or \\n\"%(hour - advance, hour))\n",
    "        hour += period\n",
    "    s += (\"(n.工作小时数>%d and n.工作小时数<%d) \\n\"%(hour - advance, hour))\n",
    "    s += (\"return n\\nlimit %d\\n\"%limit)\n",
    "    return s\n",
    "\n",
    "s = findMachineNearMaintain(5000, 200)\n",
    "print(s)"
   ]
  },
  {
   "cell_type": "code",
   "execution_count": 27,
   "metadata": {
    "ExecuteTime": {
     "end_time": "2019-07-25T12:56:19.754940Z",
     "start_time": "2019-07-25T12:56:19.750950Z"
    }
   },
   "outputs": [
    {
     "name": "stdout",
     "output_type": "stream",
     "text": [
      "match(a:现场服务人员)--(b:服务区{value:'石家庄东区'})\n",
      "match(a:现场服务人员)--(c:服务派工)--(d:工单)--(e:挖掘机)--(f:机型{value:'PC56-7'})\n",
      "match(d:工单)--(g:故障{value:'500小时保养'})\n",
      "return a,b,c,d,e,f,g\n",
      "limit 100\n",
      "\n"
     ]
    }
   ],
   "source": [
    "def findServiceStaff(srvArea='石家庄东区', deviceModel='PC56-7', symptom='500小时保养', onlyStaff=False, limit=100):\n",
    "    s = \"\"\n",
    "    s += (\"match(a:现场服务人员)--(b:服务区{value:'%s'})\\n\"%(srvArea))\n",
    "    s += (\"match(a:现场服务人员)--(c:服务派工)--(d:工单)--(e:挖掘机)--(f:机型{value:'%s'})\\n\"%deviceModel)\n",
    "    s += (\"match(d:工单)--(g:故障{value:'%s'})\\n\"%(symptom))\n",
    "    if onlyStaff:\n",
    "        s += (\"return a\\n\")\n",
    "    else:\n",
    "        s += (\"return a,b,c,d,e,f,g\\n\")\n",
    "    if limit > 0:\n",
    "        s += (\"limit %d\\n\"%limit)\n",
    "    return s\n",
    "\n",
    "s = findServiceStaff()\n",
    "print(s)"
   ]
  },
  {
   "cell_type": "code",
   "execution_count": 29,
   "metadata": {
    "ExecuteTime": {
     "end_time": "2019-07-25T12:57:22.745182Z",
     "start_time": "2019-07-25T12:57:22.741198Z"
    }
   },
   "outputs": [
    {
     "name": "stdout",
     "output_type": "stream",
     "text": [
      "match(n:客户{客户号:'TC20190411110102183'})--(m)\n",
      "match(m)--(p)\n",
      "return n,m,p\n",
      "limit 100\n"
     ]
    }
   ],
   "source": [
    "def findCustomerInfo(customerID='TC20190411110106917', limit=100):\n",
    "    s = \"match(n:客户{客户号:'%s'})--(m)\\nmatch(m)--(p)\\nreturn n,m,p\\n\"%customerID\n",
    "    s += \"limit %d\"%limit\n",
    "    return s\n",
    "s = findCustomerInfo('TC20190411110102183')\n",
    "print(s)"
   ]
  }
 ],
 "metadata": {
  "kernelspec": {
   "display_name": "Python 3",
   "language": "python",
   "name": "python3"
  },
  "language_info": {
   "codemirror_mode": {
    "name": "ipython",
    "version": 3
   },
   "file_extension": ".py",
   "mimetype": "text/x-python",
   "name": "python",
   "nbconvert_exporter": "python",
   "pygments_lexer": "ipython3",
   "version": "3.7.0"
  },
  "varInspector": {
   "cols": {
    "lenName": 16,
    "lenType": 16,
    "lenVar": 40
   },
   "kernels_config": {
    "python": {
     "delete_cmd_postfix": "",
     "delete_cmd_prefix": "del ",
     "library": "var_list.py",
     "varRefreshCmd": "print(var_dic_list())"
    },
    "r": {
     "delete_cmd_postfix": ") ",
     "delete_cmd_prefix": "rm(",
     "library": "var_list.r",
     "varRefreshCmd": "cat(var_dic_list()) "
    }
   },
   "types_to_exclude": [
    "module",
    "function",
    "builtin_function_or_method",
    "instance",
    "_Feature"
   ],
   "window_display": true
  }
 },
 "nbformat": 4,
 "nbformat_minor": 2
}
